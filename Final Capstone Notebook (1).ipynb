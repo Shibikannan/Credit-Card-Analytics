{
 "cells": [
  {
   "cell_type": "markdown",
   "id": "820d2041",
   "metadata": {},
   "source": [
    "# TO PREDICT THE PROBABLITY OF DEFAULT OF CREDIT CARD CLIENTS"
   ]
  },
  {
   "cell_type": "markdown",
   "id": "edd259a4",
   "metadata": {},
   "source": [
    "# ATTRIBUTES DESCRIPTION:"
   ]
  },
  {
   "cell_type": "markdown",
   "id": "4b732edd",
   "metadata": {},
   "source": [
    "\n",
    "X1: Amount of the given credit (NT dollar): it includes both the individual consumer credit and his/her family (supplementary) credit.\n",
    "\n",
    "X2: Gender (1 = male; 2 = female).\n",
    "\n",
    "X3: Education (1 = graduate school; 2 = university; 3 = high school; 4 = others).\n",
    "\n",
    "X4: Marital status (1 = married; 2 = single; 3 = others).\n",
    "\n",
    "X5: Age (year).\n",
    "\n",
    "X6 - X11: History of past payment. We tracked the past monthly payment records (from April to September, 2005) as follows:\n",
    "\n",
    "X6 = The repayment status in September, 2005.\n",
    "\n",
    "X7 = The repayment status in August, 2005.\n",
    "\n",
    "....\n",
    "\n",
    "X11 = The repayment status in April, 2005.\n",
    "\n",
    "The measurement scale for the repayment status is:\n",
    "(-2 = No consumption; -1 = Paid in full; 0 = The use of revolving credit; 1 = payment delay for one month; 2 = payment delay for two months; .... 8 = payment delay for eight months; 9 = payment delay for nine months and above).\n",
    "\n",
    "X12-X17: Amount of bill statement (NT dollar).\n",
    "\n",
    "X12 = Amount of bill statement in September, 2005.\n",
    "\n",
    "X13 = Amount of bill statement in August, 2005.\n",
    "\n",
    "....\n",
    "\n",
    "X17 = Amount of bill statement in April, 2005.\n",
    "\n",
    "X18-X23: Amount of previous payment (NT dollar).\n",
    "\n",
    "X18 = Amount paid in September, 2005.\n",
    "\n",
    "X19 = Amount paid in August, 2005.\n",
    "\n",
    "....\n",
    "\n",
    "X23 = Amount paid in April, 2005."
   ]
  },
  {
   "cell_type": "markdown",
   "id": "e83c3188",
   "metadata": {},
   "source": [
    "# IMPORTING THE LIBRARIES"
   ]
  },
  {
   "cell_type": "code",
   "execution_count": 82,
   "id": "38bc4862",
   "metadata": {},
   "outputs": [],
   "source": [
    "import pandas as pd\n",
    "import numpy as np\n",
    "import seaborn as sns\n",
    "import matplotlib.pyplot as plt\n",
    "\n",
    "from warnings import filterwarnings\n",
    "filterwarnings('ignore')\n",
    "\n",
    "from scipy import stats\n",
    "from sklearn.model_selection import train_test_split\n",
    "from sklearn.model_selection import KFold\n",
    "from sklearn.metrics import roc_auc_score\n",
    "from sklearn.metrics import roc_curve, auc\n",
    "from sklearn.ensemble import RandomForestClassifier \n",
    "from sklearn.model_selection import cross_val_score\n",
    "from sklearn.metrics import confusion_matrix, classification_report"
   ]
  },
  {
   "cell_type": "markdown",
   "id": "522f4e07",
   "metadata": {},
   "source": [
    "# LOAD THE DATASET AND RESETTING IT TO PROPER TABLE"
   ]
  },
  {
   "cell_type": "code",
   "execution_count": 2,
   "id": "8d079696",
   "metadata": {},
   "outputs": [],
   "source": [
    "pd.set_option('display.max_columns',None)\n",
    "pd.set_option('display.max_rows',None)"
   ]
  },
  {
   "cell_type": "code",
   "execution_count": 3,
   "id": "e39187a5",
   "metadata": {},
   "outputs": [],
   "source": [
    "df = pd.read_excel('default of credit card clients.xls')"
   ]
  },
  {
   "cell_type": "code",
   "execution_count": 4,
   "id": "dcfad488",
   "metadata": {},
   "outputs": [
    {
     "data": {
      "text/html": [
       "<div>\n",
       "<style scoped>\n",
       "    .dataframe tbody tr th:only-of-type {\n",
       "        vertical-align: middle;\n",
       "    }\n",
       "\n",
       "    .dataframe tbody tr th {\n",
       "        vertical-align: top;\n",
       "    }\n",
       "\n",
       "    .dataframe thead th {\n",
       "        text-align: right;\n",
       "    }\n",
       "</style>\n",
       "<table border=\"1\" class=\"dataframe\">\n",
       "  <thead>\n",
       "    <tr style=\"text-align: right;\">\n",
       "      <th></th>\n",
       "      <th>Unnamed: 0</th>\n",
       "      <th>X1</th>\n",
       "      <th>X2</th>\n",
       "      <th>X3</th>\n",
       "      <th>X4</th>\n",
       "      <th>X5</th>\n",
       "      <th>X6</th>\n",
       "      <th>X7</th>\n",
       "      <th>X8</th>\n",
       "      <th>X9</th>\n",
       "      <th>X10</th>\n",
       "      <th>X11</th>\n",
       "      <th>X12</th>\n",
       "      <th>X13</th>\n",
       "      <th>X14</th>\n",
       "      <th>X15</th>\n",
       "      <th>X16</th>\n",
       "      <th>X17</th>\n",
       "      <th>X18</th>\n",
       "      <th>X19</th>\n",
       "      <th>X20</th>\n",
       "      <th>X21</th>\n",
       "      <th>X22</th>\n",
       "      <th>X23</th>\n",
       "      <th>Y</th>\n",
       "    </tr>\n",
       "  </thead>\n",
       "  <tbody>\n",
       "    <tr>\n",
       "      <th>0</th>\n",
       "      <td>ID</td>\n",
       "      <td>LIMIT_BAL</td>\n",
       "      <td>SEX</td>\n",
       "      <td>EDUCATION</td>\n",
       "      <td>MARRIAGE</td>\n",
       "      <td>AGE</td>\n",
       "      <td>PAY_0</td>\n",
       "      <td>PAY_2</td>\n",
       "      <td>PAY_3</td>\n",
       "      <td>PAY_4</td>\n",
       "      <td>PAY_5</td>\n",
       "      <td>PAY_6</td>\n",
       "      <td>BILL_AMT1</td>\n",
       "      <td>BILL_AMT2</td>\n",
       "      <td>BILL_AMT3</td>\n",
       "      <td>BILL_AMT4</td>\n",
       "      <td>BILL_AMT5</td>\n",
       "      <td>BILL_AMT6</td>\n",
       "      <td>PAY_AMT1</td>\n",
       "      <td>PAY_AMT2</td>\n",
       "      <td>PAY_AMT3</td>\n",
       "      <td>PAY_AMT4</td>\n",
       "      <td>PAY_AMT5</td>\n",
       "      <td>PAY_AMT6</td>\n",
       "      <td>default payment next month</td>\n",
       "    </tr>\n",
       "    <tr>\n",
       "      <th>1</th>\n",
       "      <td>1</td>\n",
       "      <td>20000</td>\n",
       "      <td>2</td>\n",
       "      <td>2</td>\n",
       "      <td>1</td>\n",
       "      <td>24</td>\n",
       "      <td>2</td>\n",
       "      <td>2</td>\n",
       "      <td>-1</td>\n",
       "      <td>-1</td>\n",
       "      <td>-2</td>\n",
       "      <td>-2</td>\n",
       "      <td>3913</td>\n",
       "      <td>3102</td>\n",
       "      <td>689</td>\n",
       "      <td>0</td>\n",
       "      <td>0</td>\n",
       "      <td>0</td>\n",
       "      <td>0</td>\n",
       "      <td>689</td>\n",
       "      <td>0</td>\n",
       "      <td>0</td>\n",
       "      <td>0</td>\n",
       "      <td>0</td>\n",
       "      <td>1</td>\n",
       "    </tr>\n",
       "    <tr>\n",
       "      <th>2</th>\n",
       "      <td>2</td>\n",
       "      <td>120000</td>\n",
       "      <td>2</td>\n",
       "      <td>2</td>\n",
       "      <td>2</td>\n",
       "      <td>26</td>\n",
       "      <td>-1</td>\n",
       "      <td>2</td>\n",
       "      <td>0</td>\n",
       "      <td>0</td>\n",
       "      <td>0</td>\n",
       "      <td>2</td>\n",
       "      <td>2682</td>\n",
       "      <td>1725</td>\n",
       "      <td>2682</td>\n",
       "      <td>3272</td>\n",
       "      <td>3455</td>\n",
       "      <td>3261</td>\n",
       "      <td>0</td>\n",
       "      <td>1000</td>\n",
       "      <td>1000</td>\n",
       "      <td>1000</td>\n",
       "      <td>0</td>\n",
       "      <td>2000</td>\n",
       "      <td>1</td>\n",
       "    </tr>\n",
       "    <tr>\n",
       "      <th>3</th>\n",
       "      <td>3</td>\n",
       "      <td>90000</td>\n",
       "      <td>2</td>\n",
       "      <td>2</td>\n",
       "      <td>2</td>\n",
       "      <td>34</td>\n",
       "      <td>0</td>\n",
       "      <td>0</td>\n",
       "      <td>0</td>\n",
       "      <td>0</td>\n",
       "      <td>0</td>\n",
       "      <td>0</td>\n",
       "      <td>29239</td>\n",
       "      <td>14027</td>\n",
       "      <td>13559</td>\n",
       "      <td>14331</td>\n",
       "      <td>14948</td>\n",
       "      <td>15549</td>\n",
       "      <td>1518</td>\n",
       "      <td>1500</td>\n",
       "      <td>1000</td>\n",
       "      <td>1000</td>\n",
       "      <td>1000</td>\n",
       "      <td>5000</td>\n",
       "      <td>0</td>\n",
       "    </tr>\n",
       "    <tr>\n",
       "      <th>4</th>\n",
       "      <td>4</td>\n",
       "      <td>50000</td>\n",
       "      <td>2</td>\n",
       "      <td>2</td>\n",
       "      <td>1</td>\n",
       "      <td>37</td>\n",
       "      <td>0</td>\n",
       "      <td>0</td>\n",
       "      <td>0</td>\n",
       "      <td>0</td>\n",
       "      <td>0</td>\n",
       "      <td>0</td>\n",
       "      <td>46990</td>\n",
       "      <td>48233</td>\n",
       "      <td>49291</td>\n",
       "      <td>28314</td>\n",
       "      <td>28959</td>\n",
       "      <td>29547</td>\n",
       "      <td>2000</td>\n",
       "      <td>2019</td>\n",
       "      <td>1200</td>\n",
       "      <td>1100</td>\n",
       "      <td>1069</td>\n",
       "      <td>1000</td>\n",
       "      <td>0</td>\n",
       "    </tr>\n",
       "  </tbody>\n",
       "</table>\n",
       "</div>"
      ],
      "text/plain": [
       "  Unnamed: 0         X1   X2         X3        X4   X5     X6     X7     X8  \\\n",
       "0         ID  LIMIT_BAL  SEX  EDUCATION  MARRIAGE  AGE  PAY_0  PAY_2  PAY_3   \n",
       "1          1      20000    2          2         1   24      2      2     -1   \n",
       "2          2     120000    2          2         2   26     -1      2      0   \n",
       "3          3      90000    2          2         2   34      0      0      0   \n",
       "4          4      50000    2          2         1   37      0      0      0   \n",
       "\n",
       "      X9    X10    X11        X12        X13        X14        X15        X16  \\\n",
       "0  PAY_4  PAY_5  PAY_6  BILL_AMT1  BILL_AMT2  BILL_AMT3  BILL_AMT4  BILL_AMT5   \n",
       "1     -1     -2     -2       3913       3102        689          0          0   \n",
       "2      0      0      2       2682       1725       2682       3272       3455   \n",
       "3      0      0      0      29239      14027      13559      14331      14948   \n",
       "4      0      0      0      46990      48233      49291      28314      28959   \n",
       "\n",
       "         X17       X18       X19       X20       X21       X22       X23  \\\n",
       "0  BILL_AMT6  PAY_AMT1  PAY_AMT2  PAY_AMT3  PAY_AMT4  PAY_AMT5  PAY_AMT6   \n",
       "1          0         0       689         0         0         0         0   \n",
       "2       3261         0      1000      1000      1000         0      2000   \n",
       "3      15549      1518      1500      1000      1000      1000      5000   \n",
       "4      29547      2000      2019      1200      1100      1069      1000   \n",
       "\n",
       "                            Y  \n",
       "0  default payment next month  \n",
       "1                           1  \n",
       "2                           1  \n",
       "3                           0  \n",
       "4                           0  "
      ]
     },
     "execution_count": 4,
     "metadata": {},
     "output_type": "execute_result"
    }
   ],
   "source": [
    "df.head()"
   ]
  },
  {
   "cell_type": "code",
   "execution_count": 5,
   "id": "63d2273c",
   "metadata": {},
   "outputs": [],
   "source": [
    "df.columns = df.iloc[0]"
   ]
  },
  {
   "cell_type": "code",
   "execution_count": 6,
   "id": "3ebd59d4",
   "metadata": {},
   "outputs": [],
   "source": [
    "df = df.drop(0)"
   ]
  },
  {
   "cell_type": "code",
   "execution_count": 7,
   "id": "34741ff9",
   "metadata": {},
   "outputs": [],
   "source": [
    "df = df.reset_index(drop = True)"
   ]
  },
  {
   "cell_type": "code",
   "execution_count": 8,
   "id": "7d6356e6",
   "metadata": {},
   "outputs": [],
   "source": [
    "df = df.rename(columns = {'default payment next month' : 'DEFAULT_PAYMENT_NEXT_MONTH', 'PAY_0' : 'PAY_1'})"
   ]
  },
  {
   "cell_type": "code",
   "execution_count": 9,
   "id": "05aee932",
   "metadata": {},
   "outputs": [
    {
     "data": {
      "text/html": [
       "<div>\n",
       "<style scoped>\n",
       "    .dataframe tbody tr th:only-of-type {\n",
       "        vertical-align: middle;\n",
       "    }\n",
       "\n",
       "    .dataframe tbody tr th {\n",
       "        vertical-align: top;\n",
       "    }\n",
       "\n",
       "    .dataframe thead th {\n",
       "        text-align: right;\n",
       "    }\n",
       "</style>\n",
       "<table border=\"1\" class=\"dataframe\">\n",
       "  <thead>\n",
       "    <tr style=\"text-align: right;\">\n",
       "      <th></th>\n",
       "      <th>ID</th>\n",
       "      <th>LIMIT_BAL</th>\n",
       "      <th>SEX</th>\n",
       "      <th>EDUCATION</th>\n",
       "      <th>MARRIAGE</th>\n",
       "      <th>AGE</th>\n",
       "      <th>PAY_1</th>\n",
       "      <th>PAY_2</th>\n",
       "      <th>PAY_3</th>\n",
       "      <th>PAY_4</th>\n",
       "      <th>PAY_5</th>\n",
       "      <th>PAY_6</th>\n",
       "      <th>BILL_AMT1</th>\n",
       "      <th>BILL_AMT2</th>\n",
       "      <th>BILL_AMT3</th>\n",
       "      <th>BILL_AMT4</th>\n",
       "      <th>BILL_AMT5</th>\n",
       "      <th>BILL_AMT6</th>\n",
       "      <th>PAY_AMT1</th>\n",
       "      <th>PAY_AMT2</th>\n",
       "      <th>PAY_AMT3</th>\n",
       "      <th>PAY_AMT4</th>\n",
       "      <th>PAY_AMT5</th>\n",
       "      <th>PAY_AMT6</th>\n",
       "      <th>DEFAULT_PAYMENT_NEXT_MONTH</th>\n",
       "    </tr>\n",
       "  </thead>\n",
       "  <tbody>\n",
       "    <tr>\n",
       "      <th>0</th>\n",
       "      <td>1</td>\n",
       "      <td>20000</td>\n",
       "      <td>2</td>\n",
       "      <td>2</td>\n",
       "      <td>1</td>\n",
       "      <td>24</td>\n",
       "      <td>2</td>\n",
       "      <td>2</td>\n",
       "      <td>-1</td>\n",
       "      <td>-1</td>\n",
       "      <td>-2</td>\n",
       "      <td>-2</td>\n",
       "      <td>3913</td>\n",
       "      <td>3102</td>\n",
       "      <td>689</td>\n",
       "      <td>0</td>\n",
       "      <td>0</td>\n",
       "      <td>0</td>\n",
       "      <td>0</td>\n",
       "      <td>689</td>\n",
       "      <td>0</td>\n",
       "      <td>0</td>\n",
       "      <td>0</td>\n",
       "      <td>0</td>\n",
       "      <td>1</td>\n",
       "    </tr>\n",
       "    <tr>\n",
       "      <th>1</th>\n",
       "      <td>2</td>\n",
       "      <td>120000</td>\n",
       "      <td>2</td>\n",
       "      <td>2</td>\n",
       "      <td>2</td>\n",
       "      <td>26</td>\n",
       "      <td>-1</td>\n",
       "      <td>2</td>\n",
       "      <td>0</td>\n",
       "      <td>0</td>\n",
       "      <td>0</td>\n",
       "      <td>2</td>\n",
       "      <td>2682</td>\n",
       "      <td>1725</td>\n",
       "      <td>2682</td>\n",
       "      <td>3272</td>\n",
       "      <td>3455</td>\n",
       "      <td>3261</td>\n",
       "      <td>0</td>\n",
       "      <td>1000</td>\n",
       "      <td>1000</td>\n",
       "      <td>1000</td>\n",
       "      <td>0</td>\n",
       "      <td>2000</td>\n",
       "      <td>1</td>\n",
       "    </tr>\n",
       "    <tr>\n",
       "      <th>2</th>\n",
       "      <td>3</td>\n",
       "      <td>90000</td>\n",
       "      <td>2</td>\n",
       "      <td>2</td>\n",
       "      <td>2</td>\n",
       "      <td>34</td>\n",
       "      <td>0</td>\n",
       "      <td>0</td>\n",
       "      <td>0</td>\n",
       "      <td>0</td>\n",
       "      <td>0</td>\n",
       "      <td>0</td>\n",
       "      <td>29239</td>\n",
       "      <td>14027</td>\n",
       "      <td>13559</td>\n",
       "      <td>14331</td>\n",
       "      <td>14948</td>\n",
       "      <td>15549</td>\n",
       "      <td>1518</td>\n",
       "      <td>1500</td>\n",
       "      <td>1000</td>\n",
       "      <td>1000</td>\n",
       "      <td>1000</td>\n",
       "      <td>5000</td>\n",
       "      <td>0</td>\n",
       "    </tr>\n",
       "    <tr>\n",
       "      <th>3</th>\n",
       "      <td>4</td>\n",
       "      <td>50000</td>\n",
       "      <td>2</td>\n",
       "      <td>2</td>\n",
       "      <td>1</td>\n",
       "      <td>37</td>\n",
       "      <td>0</td>\n",
       "      <td>0</td>\n",
       "      <td>0</td>\n",
       "      <td>0</td>\n",
       "      <td>0</td>\n",
       "      <td>0</td>\n",
       "      <td>46990</td>\n",
       "      <td>48233</td>\n",
       "      <td>49291</td>\n",
       "      <td>28314</td>\n",
       "      <td>28959</td>\n",
       "      <td>29547</td>\n",
       "      <td>2000</td>\n",
       "      <td>2019</td>\n",
       "      <td>1200</td>\n",
       "      <td>1100</td>\n",
       "      <td>1069</td>\n",
       "      <td>1000</td>\n",
       "      <td>0</td>\n",
       "    </tr>\n",
       "    <tr>\n",
       "      <th>4</th>\n",
       "      <td>5</td>\n",
       "      <td>50000</td>\n",
       "      <td>1</td>\n",
       "      <td>2</td>\n",
       "      <td>1</td>\n",
       "      <td>57</td>\n",
       "      <td>-1</td>\n",
       "      <td>0</td>\n",
       "      <td>-1</td>\n",
       "      <td>0</td>\n",
       "      <td>0</td>\n",
       "      <td>0</td>\n",
       "      <td>8617</td>\n",
       "      <td>5670</td>\n",
       "      <td>35835</td>\n",
       "      <td>20940</td>\n",
       "      <td>19146</td>\n",
       "      <td>19131</td>\n",
       "      <td>2000</td>\n",
       "      <td>36681</td>\n",
       "      <td>10000</td>\n",
       "      <td>9000</td>\n",
       "      <td>689</td>\n",
       "      <td>679</td>\n",
       "      <td>0</td>\n",
       "    </tr>\n",
       "  </tbody>\n",
       "</table>\n",
       "</div>"
      ],
      "text/plain": [
       "0 ID LIMIT_BAL SEX EDUCATION MARRIAGE AGE PAY_1 PAY_2 PAY_3 PAY_4 PAY_5 PAY_6  \\\n",
       "0  1     20000   2         2        1  24     2     2    -1    -1    -2    -2   \n",
       "1  2    120000   2         2        2  26    -1     2     0     0     0     2   \n",
       "2  3     90000   2         2        2  34     0     0     0     0     0     0   \n",
       "3  4     50000   2         2        1  37     0     0     0     0     0     0   \n",
       "4  5     50000   1         2        1  57    -1     0    -1     0     0     0   \n",
       "\n",
       "0 BILL_AMT1 BILL_AMT2 BILL_AMT3 BILL_AMT4 BILL_AMT5 BILL_AMT6 PAY_AMT1  \\\n",
       "0      3913      3102       689         0         0         0        0   \n",
       "1      2682      1725      2682      3272      3455      3261        0   \n",
       "2     29239     14027     13559     14331     14948     15549     1518   \n",
       "3     46990     48233     49291     28314     28959     29547     2000   \n",
       "4      8617      5670     35835     20940     19146     19131     2000   \n",
       "\n",
       "0 PAY_AMT2 PAY_AMT3 PAY_AMT4 PAY_AMT5 PAY_AMT6 DEFAULT_PAYMENT_NEXT_MONTH  \n",
       "0      689        0        0        0        0                          1  \n",
       "1     1000     1000     1000        0     2000                          1  \n",
       "2     1500     1000     1000     1000     5000                          0  \n",
       "3     2019     1200     1100     1069     1000                          0  \n",
       "4    36681    10000     9000      689      679                          0  "
      ]
     },
     "execution_count": 9,
     "metadata": {},
     "output_type": "execute_result"
    }
   ],
   "source": [
    "df.head()"
   ]
  },
  {
   "cell_type": "code",
   "execution_count": 10,
   "id": "1c7c6256",
   "metadata": {},
   "outputs": [
    {
     "data": {
      "text/plain": [
       "(30000, 25)"
      ]
     },
     "execution_count": 10,
     "metadata": {},
     "output_type": "execute_result"
    }
   ],
   "source": [
    "df.shape"
   ]
  },
  {
   "cell_type": "markdown",
   "id": "0727666b",
   "metadata": {},
   "source": [
    "# DATA PREPROCESSING"
   ]
  },
  {
   "cell_type": "markdown",
   "id": "90b0161f",
   "metadata": {},
   "source": [
    "# DROPPING THE ROWS THAT HAVE MEANINGLESS VALUES"
   ]
  },
  {
   "cell_type": "code",
   "execution_count": 11,
   "id": "30072470",
   "metadata": {},
   "outputs": [
    {
     "data": {
      "image/png": "[encoded data removed]",
      "text/plain": [
       "<Figure size 1080x576 with 1 Axes>"
      ]
     },
     "metadata": {
      "needs_background": "light"
     },
     "output_type": "display_data"
    }
   ],
   "source": [
    "plt.figure(figsize= (15,8))\n",
    "sns.countplot(df['EDUCATION'])\n",
    "plt.show()\n",
    "\n",
    "## In this column 0,5,6 makes no sense and doesn't represent anything"
   ]
  },
  {
   "cell_type": "code",
   "execution_count": 12,
   "id": "33392a2a",
   "metadata": {},
   "outputs": [
    {
     "data": {
      "image/png": "[encoded data removed]",
      "text/plain": [
       "<Figure size 1080x576 with 1 Axes>"
      ]
     },
     "metadata": {
      "needs_background": "light"
     },
     "output_type": "display_data"
    }
   ],
   "source": [
    "plt.figure(figsize= (15,8))\n",
    "sns.countplot(df['MARRIAGE'])\n",
    "plt.show()\n",
    "\n",
    "## Here 0 makes no sense, hence removed"
   ]
  },
  {
   "cell_type": "code",
   "execution_count": 13,
   "id": "cd6e1c07",
   "metadata": {},
   "outputs": [],
   "source": [
    "df = df[(df.MARRIAGE != 0) & (df.EDUCATION != 5) & (df.EDUCATION != 6) & (df.EDUCATION != 0)]"
   ]
  },
  {
   "cell_type": "code",
   "execution_count": 14,
   "id": "4a7c6ce5",
   "metadata": {},
   "outputs": [],
   "source": [
    "df = df.reset_index(drop = True)"
   ]
  },
  {
   "cell_type": "code",
   "execution_count": 15,
   "id": "ac20cf02",
   "metadata": {},
   "outputs": [
    {
     "data": {
      "text/plain": [
       "(29601, 25)"
      ]
     },
     "execution_count": 15,
     "metadata": {},
     "output_type": "execute_result"
    }
   ],
   "source": [
    "df.shape"
   ]
  },
  {
   "cell_type": "markdown",
   "id": "6fbdf6f1",
   "metadata": {},
   "source": [
    "# CONVERSION OF COLUMNS TO APPROPRIATE DATATYPE"
   ]
  },
  {
   "cell_type": "code",
   "execution_count": 16,
   "id": "b4a35a87",
   "metadata": {},
   "outputs": [
    {
     "name": "stdout",
     "output_type": "stream",
     "text": [
      "<class 'pandas.core.frame.DataFrame'>\n",
      "RangeIndex: 29601 entries, 0 to 29600\n",
      "Data columns (total 25 columns):\n",
      " #   Column                      Non-Null Count  Dtype \n",
      "---  ------                      --------------  ----- \n",
      " 0   ID                          29601 non-null  object\n",
      " 1   LIMIT_BAL                   29601 non-null  object\n",
      " 2   SEX                         29601 non-null  object\n",
      " 3   EDUCATION                   29601 non-null  object\n",
      " 4   MARRIAGE                    29601 non-null  object\n",
      " 5   AGE                         29601 non-null  object\n",
      " 6   PAY_1                       29601 non-null  object\n",
      " 7   PAY_2                       29601 non-null  object\n",
      " 8   PAY_3                       29601 non-null  object\n",
      " 9   PAY_4                       29601 non-null  object\n",
      " 10  PAY_5                       29601 non-null  object\n",
      " 11  PAY_6                       29601 non-null  object\n",
      " 12  BILL_AMT1                   29601 non-null  object\n",
      " 13  BILL_AMT2                   29601 non-null  object\n",
      " 14  BILL_AMT3                   29601 non-null  object\n",
      " 15  BILL_AMT4                   29601 non-null  object\n",
      " 16  BILL_AMT5                   29601 non-null  object\n",
      " 17  BILL_AMT6                   29601 non-null  object\n",
      " 18  PAY_AMT1                    29601 non-null  object\n",
      " 19  PAY_AMT2                    29601 non-null  object\n",
      " 20  PAY_AMT3                    29601 non-null  object\n",
      " 21  PAY_AMT4                    29601 non-null  object\n",
      " 22  PAY_AMT5                    29601 non-null  object\n",
      " 23  PAY_AMT6                    29601 non-null  object\n",
      " 24  DEFAULT_PAYMENT_NEXT_MONTH  29601 non-null  object\n",
      "dtypes: object(25)\n",
      "memory usage: 5.6+ MB\n"
     ]
    }
   ],
   "source": [
    "df.info()"
   ]
  },
  {
   "cell_type": "code",
   "execution_count": 17,
   "id": "1d52cd37",
   "metadata": {},
   "outputs": [],
   "source": [
    "df[['ID','LIMIT_BAL','AGE',\n",
    "    'BILL_AMT1','BILL_AMT2','BILL_AMT3','BILL_AMT4','BILL_AMT5','BILL_AMT6',\n",
    "    'PAY_AMT1','PAY_AMT2','PAY_AMT3','PAY_AMT4','PAY_AMT5','PAY_AMT6']] = df[['ID','LIMIT_BAL','AGE',\n",
    "                                                                              'BILL_AMT1','BILL_AMT2','BILL_AMT3','BILL_AMT4','BILL_AMT5','BILL_AMT6',\n",
    "                                                                              'PAY_AMT1','PAY_AMT2','PAY_AMT3','PAY_AMT4','PAY_AMT5','PAY_AMT6']].astype('int')"
   ]
  },
  {
   "cell_type": "code",
   "execution_count": 18,
   "id": "9e89a303",
   "metadata": {},
   "outputs": [
    {
     "name": "stdout",
     "output_type": "stream",
     "text": [
      "<class 'pandas.core.frame.DataFrame'>\n",
      "RangeIndex: 29601 entries, 0 to 29600\n",
      "Data columns (total 25 columns):\n",
      " #   Column                      Non-Null Count  Dtype \n",
      "---  ------                      --------------  ----- \n",
      " 0   ID                          29601 non-null  int64 \n",
      " 1   LIMIT_BAL                   29601 non-null  int64 \n",
      " 2   SEX                         29601 non-null  object\n",
      " 3   EDUCATION                   29601 non-null  object\n",
      " 4   MARRIAGE                    29601 non-null  object\n",
      " 5   AGE                         29601 non-null  int64 \n",
      " 6   PAY_1                       29601 non-null  object\n",
      " 7   PAY_2                       29601 non-null  object\n",
      " 8   PAY_3                       29601 non-null  object\n",
      " 9   PAY_4                       29601 non-null  object\n",
      " 10  PAY_5                       29601 non-null  object\n",
      " 11  PAY_6                       29601 non-null  object\n",
      " 12  BILL_AMT1                   29601 non-null  int64 \n",
      " 13  BILL_AMT2                   29601 non-null  int64 \n",
      " 14  BILL_AMT3                   29601 non-null  int64 \n",
      " 15  BILL_AMT4                   29601 non-null  int64 \n",
      " 16  BILL_AMT5                   29601 non-null  int64 \n",
      " 17  BILL_AMT6                   29601 non-null  int64 \n",
      " 18  PAY_AMT1                    29601 non-null  int64 \n",
      " 19  PAY_AMT2                    29601 non-null  int64 \n",
      " 20  PAY_AMT3                    29601 non-null  int64 \n",
      " 21  PAY_AMT4                    29601 non-null  int64 \n",
      " 22  PAY_AMT5                    29601 non-null  int64 \n",
      " 23  PAY_AMT6                    29601 non-null  int64 \n",
      " 24  DEFAULT_PAYMENT_NEXT_MONTH  29601 non-null  object\n",
      "dtypes: int64(15), object(10)\n",
      "memory usage: 5.6+ MB\n"
     ]
    }
   ],
   "source": [
    "df.info()"
   ]
  },
  {
   "cell_type": "markdown",
   "id": "c5882357",
   "metadata": {},
   "source": [
    "# SPLITTING THE DATA INTO NUMERICAL AND CATEGORICAL"
   ]
  },
  {
   "cell_type": "code",
   "execution_count": 19,
   "id": "ee5410a7",
   "metadata": {},
   "outputs": [],
   "source": [
    "num_df = df.select_dtypes(include = np.number)\n",
    "cat_df = df.select_dtypes(exclude = np.number)"
   ]
  },
  {
   "cell_type": "markdown",
   "id": "cdcd32fc",
   "metadata": {},
   "source": [
    "# MISSING VALUE ANALYSIS"
   ]
  },
  {
   "cell_type": "code",
   "execution_count": 20,
   "id": "5118d0c4",
   "metadata": {},
   "outputs": [
    {
     "data": {
      "image/png": "[encoded data removed]",
      "text/plain": [
       "<Figure size 1080x576 with 2 Axes>"
      ]
     },
     "metadata": {
      "needs_background": "light"
     },
     "output_type": "display_data"
    }
   ],
   "source": [
    "plt.figure(figsize = (15,8))\n",
    "sns.heatmap(df.isnull(), cbar = True)\n",
    "\n",
    "plt.show()"
   ]
  },
  {
   "cell_type": "code",
   "execution_count": 21,
   "id": "0a3b0222",
   "metadata": {},
   "outputs": [
    {
     "data": {
      "text/plain": [
       "0\n",
       "ID                            0.0\n",
       "LIMIT_BAL                     0.0\n",
       "SEX                           0.0\n",
       "EDUCATION                     0.0\n",
       "MARRIAGE                      0.0\n",
       "AGE                           0.0\n",
       "PAY_1                         0.0\n",
       "PAY_2                         0.0\n",
       "PAY_3                         0.0\n",
       "PAY_4                         0.0\n",
       "PAY_5                         0.0\n",
       "PAY_6                         0.0\n",
       "BILL_AMT1                     0.0\n",
       "BILL_AMT2                     0.0\n",
       "BILL_AMT3                     0.0\n",
       "BILL_AMT4                     0.0\n",
       "BILL_AMT5                     0.0\n",
       "BILL_AMT6                     0.0\n",
       "PAY_AMT1                      0.0\n",
       "PAY_AMT2                      0.0\n",
       "PAY_AMT3                      0.0\n",
       "PAY_AMT4                      0.0\n",
       "PAY_AMT5                      0.0\n",
       "PAY_AMT6                      0.0\n",
       "DEFAULT_PAYMENT_NEXT_MONTH    0.0\n",
       "dtype: float64"
      ]
     },
     "execution_count": 21,
     "metadata": {},
     "output_type": "execute_result"
    }
   ],
   "source": [
    "df.isnull().sum() / len(df)"
   ]
  },
  {
   "cell_type": "markdown",
   "id": "77d823ac",
   "metadata": {},
   "source": [
    "# OUTLIER DETECTION"
   ]
  },
  {
   "cell_type": "code",
   "execution_count": 22,
   "id": "102424d6",
   "metadata": {},
   "outputs": [
    {
     "data": {
      "image/png": "[encoded data removed]",
      "text/plain": [
       "<Figure size 432x288 with 1 Axes>"
      ]
     },
     "metadata": {
      "needs_background": "light"
     },
     "output_type": "display_data"
    },
    {
     "data": {
      "image/png": "[encoded data removed]",
      "text/plain": [
       "<Figure size 432x288 with 1 Axes>"
      ]
     },
     "metadata": {
      "needs_background": "light"
     },
     "output_type": "display_data"
    },
    {
     "data": {
      "image/png": "[encoded data removed]",
      "text/plain": [
       "<Figure size 432x288 with 1 Axes>"
      ]
     },
     "metadata": {
      "needs_background": "light"
     },
     "output_type": "display_data"
    },
    {
     "data": {
      "image/png": "[encoded data removed]",
      "text/plain": [
       "<Figure size 432x288 with 1 Axes>"
      ]
     },
     "metadata": {
      "needs_background": "light"
     },
     "output_type": "display_data"
    },
    {
     "data": {
      "image/png": "[encoded data removed]",
      "text/plain": [
       "<Figure size 432x288 with 1 Axes>"
      ]
     },
     "metadata": {
      "needs_background": "light"
     },
     "output_type": "display_data"
    },
    {
     "data": {
      "image/png": "[encoded data removed]",
      "text/plain": [
       "<Figure size 432x288 with 1 Axes>"
      ]
     },
     "metadata": {
      "needs_background": "light"
     },
     "output_type": "display_data"
    },
    {
     "data": {
      "image/png": "[encoded data removed]",
      "text/plain": [
       "<Figure size 432x288 with 1 Axes>"
      ]
     },
     "metadata": {
      "needs_background": "light"
     },
     "output_type": "display_data"
    },
    {
     "data": {
      "image/png": "[encoded data removed]",
      "text/plain": [
       "<Figure size 432x288 with 1 Axes>"
      ]
     },
     "metadata": {
      "needs_background": "light"
     },
     "output_type": "display_data"
    },
    {
     "data": {
      "image/png": "[encoded data removed]",
      "text/plain": [
       "<Figure size 432x288 with 1 Axes>"
      ]
     },
     "metadata": {
      "needs_background": "light"
     },
     "output_type": "display_data"
    },
    {
     "data": {
      "image/png": "[encoded data removed]",
      "text/plain": [
       "<Figure size 432x288 with 1 Axes>"
      ]
     },
     "metadata": {
      "needs_background": "light"
     },
     "output_type": "display_data"
    },
    {
     "data": {
      "image/png": "[encoded data removed]",
      "text/plain": [
       "<Figure size 432x288 with 1 Axes>"
      ]
     },
     "metadata": {
      "needs_background": "light"
     },
     "output_type": "display_data"
    },
    {
     "data": {
      "image/png": "[encoded data removed]",
      "text/plain": [
       "<Figure size 432x288 with 1 Axes>"
      ]
     },
     "metadata": {
      "needs_background": "light"
     },
     "output_type": "display_data"
    },
    {
     "data": {
      "image/png": "[encoded data removed]",
      "text/plain": [
       "<Figure size 432x288 with 1 Axes>"
      ]
     },
     "metadata": {
      "needs_background": "light"
     },
     "output_type": "display_data"
    },
    {
     "data": {
      "image/png": "[encoded data removed]",
      "text/plain": [
       "<Figure size 432x288 with 1 Axes>"
      ]
     },
     "metadata": {
      "needs_background": "light"
     },
     "output_type": "display_data"
    },
    {
     "data": {
      "image/png": "[encoded data removed]",
      "text/plain": [
       "<Figure size 432x288 with 1 Axes>"
      ]
     },
     "metadata": {
      "needs_background": "light"
     },
     "output_type": "display_data"
    }
   ],
   "source": [
    "for i in num_df.columns:\n",
    "    sns.boxplot(num_df[i])\n",
    "    plt.show()"
   ]
  },
  {
   "cell_type": "code",
   "execution_count": 23,
   "id": "ad519443",
   "metadata": {},
   "outputs": [
    {
     "name": "stdout",
     "output_type": "stream",
     "text": [
      "The number of outliers in  ID  is  0\n",
      "The number of outliers in  LIMIT_BAL  is  164\n",
      "The number of outliers in  AGE  is  269\n",
      "The number of outliers in  BILL_AMT1  is  2370\n",
      "The number of outliers in  BILL_AMT2  is  2370\n",
      "The number of outliers in  BILL_AMT3  is  2434\n",
      "The number of outliers in  BILL_AMT4  is  2593\n",
      "The number of outliers in  BILL_AMT5  is  2691\n",
      "The number of outliers in  BILL_AMT6  is  2657\n",
      "The number of outliers in  PAY_AMT1  is  2703\n",
      "The number of outliers in  PAY_AMT2  is  2656\n",
      "The number of outliers in  PAY_AMT3  is  2550\n",
      "The number of outliers in  PAY_AMT4  is  2956\n",
      "The number of outliers in  PAY_AMT5  is  2910\n",
      "The number of outliers in  PAY_AMT6  is  2926\n"
     ]
    }
   ],
   "source": [
    "for i in num_df.columns:\n",
    "    Q1 = num_df[i].quantile(0.25)\n",
    "    Q3 = num_df[i].quantile(0.75)\n",
    "    \n",
    "    IQR = Q3 - Q1\n",
    "    \n",
    "    ub = Q3 + 1.5 * IQR\n",
    "    lb = Q1 - 1.5 * IQR\n",
    "    \n",
    "    print('The number of outliers in ',i, ' is ',len(num_df[((num_df[i] > ub) | (num_df[i] < lb))]))"
   ]
  },
  {
   "cell_type": "markdown",
   "id": "00422e62",
   "metadata": {},
   "source": [
    "Even though there is large number of outliers, we cannot treat the outliers as they are significant and according to the domain \n",
    "it is possible to have outliers in the bill amount and payment amount."
   ]
  },
  {
   "cell_type": "markdown",
   "id": "8a0d6f68",
   "metadata": {},
   "source": [
    "# STATISTICAL TEST"
   ]
  },
  {
   "cell_type": "code",
   "execution_count": 24,
   "id": "38dbe4be",
   "metadata": {},
   "outputs": [
    {
     "name": "stdout",
     "output_type": "stream",
     "text": [
      "\u001b[1mHypothesis Formation:\u001b[0m\n",
      "Null Hypothesis (Ho): SEX and DEFAULT_PAYMENT_NEXT_MONTH are independent\n",
      "Alternate Hypothesis (Ha): SEX and DEFAULT_PAYMENT_NEXT_MONTH are dependent\n",
      "\n",
      "\u001b[1mStatistical Significance of relationship between SEX and DEFAULT_PAYMENT_NEXT_MONTH:\u001b[0m\n",
      "Test Statistics:  46.729040463318896\n",
      "pValue:  8.151208643603006e-12\n",
      "Degrees of freedom:  1\n",
      "\n",
      "***************************************************************************************************\n",
      "\n",
      "\u001b[1mHypothesis Formation:\u001b[0m\n",
      "Null Hypothesis (Ho): EDUCATION and DEFAULT_PAYMENT_NEXT_MONTH are independent\n",
      "Alternate Hypothesis (Ha): EDUCATION and DEFAULT_PAYMENT_NEXT_MONTH are dependent\n",
      "\n",
      "\u001b[1mStatistical Significance of relationship between EDUCATION and DEFAULT_PAYMENT_NEXT_MONTH:\u001b[0m\n",
      "Test Statistics:  118.72224730588866\n",
      "pValue:  1.4541546992112855e-25\n",
      "Degrees of freedom:  3\n",
      "\n",
      "***************************************************************************************************\n",
      "\n",
      "\u001b[1mHypothesis Formation:\u001b[0m\n",
      "Null Hypothesis (Ho): MARRIAGE and DEFAULT_PAYMENT_NEXT_MONTH are independent\n",
      "Alternate Hypothesis (Ha): MARRIAGE and DEFAULT_PAYMENT_NEXT_MONTH are dependent\n",
      "\n",
      "\u001b[1mStatistical Significance of relationship between MARRIAGE and DEFAULT_PAYMENT_NEXT_MONTH:\u001b[0m\n",
      "Test Statistics:  31.996084126826016\n",
      "pValue:  1.1275572729869019e-07\n",
      "Degrees of freedom:  2\n",
      "\n",
      "***************************************************************************************************\n",
      "\n",
      "\u001b[1mHypothesis Formation:\u001b[0m\n",
      "Null Hypothesis (Ho): PAY_1 and DEFAULT_PAYMENT_NEXT_MONTH are independent\n",
      "Alternate Hypothesis (Ha): PAY_1 and DEFAULT_PAYMENT_NEXT_MONTH are dependent\n",
      "\n",
      "\u001b[1mStatistical Significance of relationship between PAY_1 and DEFAULT_PAYMENT_NEXT_MONTH:\u001b[0m\n",
      "Test Statistics:  5342.61474948869\n",
      "pValue:  0.0\n",
      "Degrees of freedom:  10\n",
      "\n",
      "***************************************************************************************************\n",
      "\n",
      "\u001b[1mHypothesis Formation:\u001b[0m\n",
      "Null Hypothesis (Ho): PAY_2 and DEFAULT_PAYMENT_NEXT_MONTH are independent\n",
      "Alternate Hypothesis (Ha): PAY_2 and DEFAULT_PAYMENT_NEXT_MONTH are dependent\n",
      "\n",
      "\u001b[1mStatistical Significance of relationship between PAY_2 and DEFAULT_PAYMENT_NEXT_MONTH:\u001b[0m\n",
      "Test Statistics:  3444.9341192046404\n",
      "pValue:  0.0\n",
      "Degrees of freedom:  10\n",
      "\n",
      "***************************************************************************************************\n",
      "\n",
      "\u001b[1mHypothesis Formation:\u001b[0m\n",
      "Null Hypothesis (Ho): PAY_3 and DEFAULT_PAYMENT_NEXT_MONTH are independent\n",
      "Alternate Hypothesis (Ha): PAY_3 and DEFAULT_PAYMENT_NEXT_MONTH are dependent\n",
      "\n",
      "\u001b[1mStatistical Significance of relationship between PAY_3 and DEFAULT_PAYMENT_NEXT_MONTH:\u001b[0m\n",
      "Test Statistics:  2587.8334689671224\n",
      "pValue:  0.0\n",
      "Degrees of freedom:  10\n",
      "\n",
      "***************************************************************************************************\n",
      "\n",
      "\u001b[1mHypothesis Formation:\u001b[0m\n",
      "Null Hypothesis (Ho): PAY_4 and DEFAULT_PAYMENT_NEXT_MONTH are independent\n",
      "Alternate Hypothesis (Ha): PAY_4 and DEFAULT_PAYMENT_NEXT_MONTH are dependent\n",
      "\n",
      "\u001b[1mStatistical Significance of relationship between PAY_4 and DEFAULT_PAYMENT_NEXT_MONTH:\u001b[0m\n",
      "Test Statistics:  2310.5417715309864\n",
      "pValue:  0.0\n",
      "Degrees of freedom:  10\n",
      "\n",
      "***************************************************************************************************\n",
      "\n",
      "\u001b[1mHypothesis Formation:\u001b[0m\n",
      "Null Hypothesis (Ho): PAY_5 and DEFAULT_PAYMENT_NEXT_MONTH are independent\n",
      "Alternate Hypothesis (Ha): PAY_5 and DEFAULT_PAYMENT_NEXT_MONTH are dependent\n",
      "\n",
      "\u001b[1mStatistical Significance of relationship between PAY_5 and DEFAULT_PAYMENT_NEXT_MONTH:\u001b[0m\n",
      "Test Statistics:  2173.773751668922\n",
      "pValue:  0.0\n",
      "Degrees of freedom:  9\n",
      "\n",
      "***************************************************************************************************\n",
      "\n",
      "\u001b[1mHypothesis Formation:\u001b[0m\n",
      "Null Hypothesis (Ho): PAY_6 and DEFAULT_PAYMENT_NEXT_MONTH are independent\n",
      "Alternate Hypothesis (Ha): PAY_6 and DEFAULT_PAYMENT_NEXT_MONTH are dependent\n",
      "\n",
      "\u001b[1mStatistical Significance of relationship between PAY_6 and DEFAULT_PAYMENT_NEXT_MONTH:\u001b[0m\n",
      "Test Statistics:  1866.5690131068877\n",
      "pValue:  0.0\n",
      "Degrees of freedom:  9\n",
      "\n",
      "***************************************************************************************************\n",
      "\n"
     ]
    }
   ],
   "source": [
    "# Checking Statistical significance of independent categorical variables with Target: \n",
    "\n",
    "for i in df[['SEX', 'EDUCATION', 'MARRIAGE', 'PAY_1', 'PAY_2', 'PAY_3', 'PAY_4', 'PAY_5', 'PAY_6']]: \n",
    "    print(\"\\033[1m\" + \"Hypothesis Formation:\" + \"\\033[0m\")\n",
    "    print(\"Null Hypothesis (Ho):\",i,\"and DEFAULT_PAYMENT_NEXT_MONTH are independent\")\n",
    "    print(\"Alternate Hypothesis (Ha):\",i,\"and DEFAULT_PAYMENT_NEXT_MONTH are dependent\")\n",
    "    print()\n",
    "    \n",
    "    obs = pd.crosstab(df[i], df['DEFAULT_PAYMENT_NEXT_MONTH']) \n",
    "    test_stat, pval, dof, exp = stats.chi2_contingency(obs)\n",
    "    \n",
    "    print(\"\\033[1m\" + \"Statistical Significance of relationship between\",i,\"and DEFAULT_PAYMENT_NEXT_MONTH:\" + \"\\033[0m\") \n",
    "    print(\"Test Statistics: \", test_stat)\n",
    "    print(\"pValue: \", pval) \n",
    "    print(\"Degrees of freedom: \", dof) \n",
    "    print(\"\\n***************************************************************************************************\\n\")"
   ]
  },
  {
   "cell_type": "markdown",
   "id": "788ad8d0",
   "metadata": {},
   "source": [
    "Inference: \n",
    "    \n",
    "    ==>  From the results of statistical significance analysis of independent categorical variables with target using Chi-Square Test for Independence, we could see the pValue from all the statistical analysis is less than the significance level of 5% (0.05). \n",
    "    \n",
    "    ==>  Hence Null hypothesis (Ho) is rejected and Alternate Hypothesis (Ha) can be selected. Thus, it is evident that all the independent categorical variables have significant relationship with the target variable."
   ]
  },
  {
   "cell_type": "markdown",
   "id": "908e607e",
   "metadata": {},
   "source": [
    "# CONDITION CHECK FOR ANOVA TEST"
   ]
  },
  {
   "cell_type": "markdown",
   "id": "7b5b8853",
   "metadata": {},
   "source": [
    "### NORMALITY CHECK"
   ]
  },
  {
   "cell_type": "code",
   "execution_count": 25,
   "id": "9f75d816",
   "metadata": {},
   "outputs": [],
   "source": [
    "a0 = df[df['DEFAULT_PAYMENT_NEXT_MONTH'] == 0]['LIMIT_BAL']\n",
    "a1 = df[df['DEFAULT_PAYMENT_NEXT_MONTH'] == 1]['LIMIT_BAL']\n",
    "\n",
    "b0 = df[df['DEFAULT_PAYMENT_NEXT_MONTH'] == 0]['AGE']\n",
    "b1 = df[df['DEFAULT_PAYMENT_NEXT_MONTH'] == 1]['AGE']"
   ]
  },
  {
   "cell_type": "code",
   "execution_count": 26,
   "id": "f9e546b2",
   "metadata": {},
   "outputs": [],
   "source": [
    "c0 = df[df['DEFAULT_PAYMENT_NEXT_MONTH'] == 0]['BILL_AMT1']\n",
    "c1 = df[df['DEFAULT_PAYMENT_NEXT_MONTH'] == 1]['BILL_AMT1']\n",
    "\n",
    "d0 = df[df['DEFAULT_PAYMENT_NEXT_MONTH'] == 0]['BILL_AMT2']\n",
    "d1 = df[df['DEFAULT_PAYMENT_NEXT_MONTH'] == 1]['BILL_AMT2']\n",
    "\n",
    "e0 = df[df['DEFAULT_PAYMENT_NEXT_MONTH'] == 0]['BILL_AMT3']\n",
    "e1 = df[df['DEFAULT_PAYMENT_NEXT_MONTH'] == 1]['BILL_AMT3']\n",
    "\n",
    "f0 = df[df['DEFAULT_PAYMENT_NEXT_MONTH'] == 0]['BILL_AMT4']\n",
    "f1 = df[df['DEFAULT_PAYMENT_NEXT_MONTH'] == 1]['BILL_AMT4']\n",
    "\n",
    "g0 = df[df['DEFAULT_PAYMENT_NEXT_MONTH'] == 0]['BILL_AMT5']\n",
    "g1 = df[df['DEFAULT_PAYMENT_NEXT_MONTH'] == 1]['BILL_AMT5']\n",
    "\n",
    "h0 = df[df['DEFAULT_PAYMENT_NEXT_MONTH'] == 0]['BILL_AMT6']\n",
    "h1 = df[df['DEFAULT_PAYMENT_NEXT_MONTH'] == 1]['BILL_AMT6']"
   ]
  },
  {
   "cell_type": "code",
   "execution_count": 27,
   "id": "03c2d640",
   "metadata": {},
   "outputs": [],
   "source": [
    "i0 = df[df['DEFAULT_PAYMENT_NEXT_MONTH'] == 0]['PAY_AMT1']\n",
    "i1 = df[df['DEFAULT_PAYMENT_NEXT_MONTH'] == 1]['PAY_AMT1']\n",
    "\n",
    "j0 = df[df['DEFAULT_PAYMENT_NEXT_MONTH'] == 0]['PAY_AMT2']\n",
    "j1 = df[df['DEFAULT_PAYMENT_NEXT_MONTH'] == 1]['PAY_AMT2']\n",
    "\n",
    "k0 = df[df['DEFAULT_PAYMENT_NEXT_MONTH'] == 0]['PAY_AMT3']\n",
    "k1 = df[df['DEFAULT_PAYMENT_NEXT_MONTH'] == 1]['PAY_AMT3']\n",
    "\n",
    "l0 = df[df['DEFAULT_PAYMENT_NEXT_MONTH'] == 0]['PAY_AMT4']\n",
    "l1 = df[df['DEFAULT_PAYMENT_NEXT_MONTH'] == 1]['PAY_AMT4']\n",
    "\n",
    "m0 = df[df['DEFAULT_PAYMENT_NEXT_MONTH'] == 0]['PAY_AMT5']\n",
    "m1 = df[df['DEFAULT_PAYMENT_NEXT_MONTH'] == 1]['PAY_AMT5']\n",
    "\n",
    "n0 = df[df['DEFAULT_PAYMENT_NEXT_MONTH'] == 0]['PAY_AMT6']\n",
    "n1 = df[df['DEFAULT_PAYMENT_NEXT_MONTH'] == 1]['PAY_AMT6']"
   ]
  },
  {
   "cell_type": "code",
   "execution_count": 28,
   "id": "ec9e1779",
   "metadata": {},
   "outputs": [
    {
     "name": "stdout",
     "output_type": "stream",
     "text": [
      "Shapiro result for a0: ShapiroResult(statistic=0.9195519685745239, pvalue=0.0)\n",
      "Shapiro result for a1: ShapiroResult(statistic=0.8549643754959106, pvalue=0.0)\n",
      "Shapiro result for b0: ShapiroResult(statistic=0.9491810202598572, pvalue=0.0)\n",
      "Shapiro result for b1: ShapiroResult(statistic=0.9497825503349304, pvalue=9.696985373127734e-43)\n",
      "Shapiro result for c0: ShapiroResult(statistic=0.7068356871604919, pvalue=0.0)\n",
      "Shapiro result for c1 ShapiroResult(statistic=0.6586236357688904, pvalue=0.0)\n",
      "Shapiro result for d0: ShapiroResult(statistic=0.7037893533706665, pvalue=0.0)\n",
      "Shapiro result for d1: ShapiroResult(statistic=0.6603682041168213, pvalue=0.0)\n",
      "Shapiro result for e0: ShapiroResult(statistic=0.6857008934020996, pvalue=0.0)\n",
      "Shapiro result for e1: ShapiroResult(statistic=0.6622762680053711, pvalue=0.0)\n",
      "Shapiro result for f0: ShapiroResult(statistic=0.6872107982635498, pvalue=0.0)\n",
      "Shapiro result for f1: ShapiroResult(statistic=0.6580805778503418, pvalue=0.0)\n",
      "Shapiro result for g0: ShapiroResult(statistic=0.6828984022140503, pvalue=0.0)\n",
      "Shapiro result for g1 ShapiroResult(statistic=0.6525850296020508, pvalue=0.0)\n",
      "Shapiro result for h0: ShapiroResult(statistic=0.6796177625656128, pvalue=0.0)\n",
      "Shapiro result for h1: ShapiroResult(statistic=0.6606587171554565, pvalue=0.0)\n",
      "Shapiro result for i0: ShapiroResult(statistic=0.27210521697998047, pvalue=0.0)\n",
      "Shapiro result for i1: ShapiroResult(statistic=0.2736329436302185, pvalue=0.0)\n",
      "Shapiro result for j0: ShapiroResult(statistic=0.17570483684539795, pvalue=0.0)\n",
      "Shapiro result for j1: ShapiroResult(statistic=0.19315391778945923, pvalue=0.0)\n",
      "Shapiro result for k0: ShapiroResult(statistic=0.24097353219985962, pvalue=0.0)\n",
      "Shapiro result for k1 ShapiroResult(statistic=0.18616986274719238, pvalue=0.0)\n",
      "Shapiro result for l0: ShapiroResult(statistic=0.2656157612800598, pvalue=0.0)\n",
      "Shapiro result for l1: ShapiroResult(statistic=0.21974492073059082, pvalue=0.0)\n",
      "Shapiro result for m0: ShapiroResult(statistic=0.279022753238678, pvalue=0.0)\n",
      "Shapiro result for m1: ShapiroResult(statistic=0.20369702577590942, pvalue=0.0)\n",
      "Shapiro result for n0: ShapiroResult(statistic=0.2628423571586609, pvalue=0.0)\n",
      "Shapiro result for n1: ShapiroResult(statistic=0.2017943263053894, pvalue=0.0)\n"
     ]
    }
   ],
   "source": [
    "# Test of Normality \n",
    "\n",
    "# Ho: skew = 0\n",
    "# Ha: skew != 0\n",
    "\n",
    "print(\"Shapiro result for a0:\",stats.shapiro(a0))\n",
    "print(\"Shapiro result for a1:\",stats.shapiro(a1))\n",
    "print(\"Shapiro result for b0:\",stats.shapiro(b0))\n",
    "print(\"Shapiro result for b1:\",stats.shapiro(b1))\n",
    "print(\"Shapiro result for c0:\",stats.shapiro(c0)) \n",
    "print(\"Shapiro result for c1\",stats.shapiro(c1)) \n",
    "print(\"Shapiro result for d0:\",stats.shapiro(d0)) \n",
    "print(\"Shapiro result for d1:\",stats.shapiro(d1)) \n",
    "print(\"Shapiro result for e0:\",stats.shapiro(e0))\n",
    "print(\"Shapiro result for e1:\",stats.shapiro(e1))\n",
    "print(\"Shapiro result for f0:\",stats.shapiro(f0))\n",
    "print(\"Shapiro result for f1:\",stats.shapiro(f1))\n",
    "print(\"Shapiro result for g0:\",stats.shapiro(g0)) \n",
    "print(\"Shapiro result for g1\",stats.shapiro(g1)) \n",
    "print(\"Shapiro result for h0:\",stats.shapiro(h0)) \n",
    "print(\"Shapiro result for h1:\",stats.shapiro(h1)) \n",
    "print(\"Shapiro result for i0:\",stats.shapiro(i0))\n",
    "print(\"Shapiro result for i1:\",stats.shapiro(i1))\n",
    "print(\"Shapiro result for j0:\",stats.shapiro(j0))\n",
    "print(\"Shapiro result for j1:\",stats.shapiro(j1))\n",
    "print(\"Shapiro result for k0:\",stats.shapiro(k0)) \n",
    "print(\"Shapiro result for k1\",stats.shapiro(k1)) \n",
    "print(\"Shapiro result for l0:\",stats.shapiro(l0)) \n",
    "print(\"Shapiro result for l1:\",stats.shapiro(l1)) \n",
    "print(\"Shapiro result for m0:\",stats.shapiro(m0))\n",
    "print(\"Shapiro result for m1:\",stats.shapiro(m1))\n",
    "print(\"Shapiro result for n0:\",stats.shapiro(n0))\n",
    "print(\"Shapiro result for n1:\",stats.shapiro(n1))"
   ]
  },
  {
   "cell_type": "markdown",
   "id": "f159b11b",
   "metadata": {},
   "source": [
    "Inference:\n",
    "\n",
    "    ==> pValue of Shapiro Result for scores of different adverse effects < 0.05 (sig. lvl).\n",
    "    \n",
    "    ==> Hence, Ho is rejected and so data is not normal ."
   ]
  },
  {
   "cell_type": "markdown",
   "id": "08c9b38e",
   "metadata": {},
   "source": [
    "### VARIANCE CHECK"
   ]
  },
  {
   "cell_type": "code",
   "execution_count": 29,
   "id": "7f4c17b4",
   "metadata": {},
   "outputs": [
    {
     "name": "stdout",
     "output_type": "stream",
     "text": [
      "LeveneResult(statistic=5260.471598686392, pvalue=0.0)\n"
     ]
    }
   ],
   "source": [
    "# Test for equality of variance \n",
    "\n",
    "# Ho: All variances are equal\n",
    "# Ha: Atleast one variance is different \n",
    "\n",
    "print(stats.levene(a0,a1,b0,b1,c0,c1,d0,d1,e0,e1,f0,f1,g0,g1,h0,h1,i0,i1,j0,j1,k0,k1,l0,l1,m0,m1,n0,n1)) "
   ]
  },
  {
   "cell_type": "markdown",
   "id": "79ac7aef",
   "metadata": {},
   "source": [
    "Inference:\n",
    "\n",
    "    ==> pValue of Levene Result for scores of different adverse effects < 0.05 (sig. lvl).\n",
    "    \n",
    "    ==> Hence, Ho is rejected and all variances are not equal. "
   ]
  },
  {
   "cell_type": "markdown",
   "id": "ae6d5435",
   "metadata": {},
   "source": [
    "#### Since it doesn't satisfy both the conditions, we can't use ANOVA test here. Hence Non-Parametric test is used."
   ]
  },
  {
   "cell_type": "markdown",
   "id": "fb499550",
   "metadata": {},
   "source": [
    "# NON-PARAMETRIC TEST (KRUSKAL TEST)"
   ]
  },
  {
   "cell_type": "code",
   "execution_count": 30,
   "id": "910efa9c",
   "metadata": {},
   "outputs": [],
   "source": [
    "# Hypothesis for Kruskal: \n",
    "\n",
    "# Ho: All medians are equal\n",
    "# Ha: Atleast one median is different"
   ]
  },
  {
   "cell_type": "code",
   "execution_count": 31,
   "id": "7dd9c20b",
   "metadata": {},
   "outputs": [
    {
     "data": {
      "text/plain": [
       "KruskalResult(statistic=157311.5087661885, pvalue=0.0)"
      ]
     },
     "execution_count": 31,
     "metadata": {},
     "output_type": "execute_result"
    }
   ],
   "source": [
    "stats.kruskal(a0,a1,b0,b1,c0,c1,d0,d1,e0,e1,f0,f1,g0,g1,h0,h1,i0,i1,j0,j1,k0,k1,l0,l1,m0,m1,n0,n1)"
   ]
  },
  {
   "cell_type": "markdown",
   "id": "23661472",
   "metadata": {},
   "source": [
    "Inference:\n",
    "\n",
    "    ==> pValue of Kruskal Result for scores of different adverse effects < 0.05 (sig. lvl) \n",
    "   \n",
    "    ==> Hence, Ho is rejected and all medians are not equal. "
   ]
  },
  {
   "cell_type": "markdown",
   "id": "44f9cdd6",
   "metadata": {},
   "source": [
    "# BILL AMOUNT vs DEFAULT CREDIT CARD CUSTOMERS"
   ]
  },
  {
   "cell_type": "code",
   "execution_count": 32,
   "id": "1f8b6423",
   "metadata": {},
   "outputs": [
    {
     "data": {
      "text/plain": [
       "DEFAULT_PAYMENT_NEXT_MONTH\n",
       "0    78.8437\n",
       "1    21.1563\n",
       "Name: BILL_AMT1, dtype: float64"
      ]
     },
     "execution_count": 32,
     "metadata": {},
     "output_type": "execute_result"
    }
   ],
   "source": [
    "df.groupby('DEFAULT_PAYMENT_NEXT_MONTH')['BILL_AMT1'].sum() / df['BILL_AMT1'].sum() * 100"
   ]
  },
  {
   "cell_type": "code",
   "execution_count": 33,
   "id": "f0c0b16d",
   "metadata": {},
   "outputs": [
    {
     "data": {
      "image/png": "[encoded data removed]",
      "text/plain": [
       "<Figure size 1008x504 with 1 Axes>"
      ]
     },
     "metadata": {
      "needs_background": "light"
     },
     "output_type": "display_data"
    }
   ],
   "source": [
    "plt.figure(figsize = (14,7))\n",
    "(df.groupby('DEFAULT_PAYMENT_NEXT_MONTH')['BILL_AMT1'].sum() / df['BILL_AMT1'].sum() * 100).plot(kind = 'bar', color = ['darkseagreen','burlywood'])\n",
    "plt.show()"
   ]
  },
  {
   "cell_type": "code",
   "execution_count": 34,
   "id": "95f31b4b",
   "metadata": {},
   "outputs": [
    {
     "data": {
      "text/plain": [
       "DEFAULT_PAYMENT_NEXT_MONTH\n",
       "0    78.513736\n",
       "1    21.486264\n",
       "Name: BILL_AMT2, dtype: float64"
      ]
     },
     "execution_count": 34,
     "metadata": {},
     "output_type": "execute_result"
    }
   ],
   "source": [
    "df.groupby('DEFAULT_PAYMENT_NEXT_MONTH')['BILL_AMT2'].sum() / df['BILL_AMT2'].sum() * 100"
   ]
  },
  {
   "cell_type": "code",
   "execution_count": 35,
   "id": "03c4e4bb",
   "metadata": {},
   "outputs": [
    {
     "data": {
      "image/png": "[encoded data removed]",
      "text/plain": [
       "<Figure size 1008x504 with 1 Axes>"
      ]
     },
     "metadata": {
      "needs_background": "light"
     },
     "output_type": "display_data"
    }
   ],
   "source": [
    "plt.figure(figsize = (14,7))\n",
    "(df.groupby('DEFAULT_PAYMENT_NEXT_MONTH')['BILL_AMT2'].sum() / df['BILL_AMT2'].sum() * 100).plot(kind = 'bar', color = ['darksalmon','midnightblue'])\n",
    "plt.show()"
   ]
  },
  {
   "cell_type": "code",
   "execution_count": 36,
   "id": "63adba5f",
   "metadata": {},
   "outputs": [
    {
     "data": {
      "text/plain": [
       "DEFAULT_PAYMENT_NEXT_MONTH\n",
       "0    78.516333\n",
       "1    21.483667\n",
       "Name: BILL_AMT3, dtype: float64"
      ]
     },
     "execution_count": 36,
     "metadata": {},
     "output_type": "execute_result"
    }
   ],
   "source": [
    "df.groupby('DEFAULT_PAYMENT_NEXT_MONTH')['BILL_AMT3'].sum() / df['BILL_AMT3'].sum() * 100"
   ]
  },
  {
   "cell_type": "code",
   "execution_count": 37,
   "id": "ef5a8176",
   "metadata": {},
   "outputs": [
    {
     "data": {
      "image/png": "[encoded data removed]",
      "text/plain": [
       "<Figure size 1008x504 with 1 Axes>"
      ]
     },
     "metadata": {
      "needs_background": "light"
     },
     "output_type": "display_data"
    }
   ],
   "source": [
    "plt.figure(figsize = (14,7))\n",
    "(df.groupby('DEFAULT_PAYMENT_NEXT_MONTH')['BILL_AMT3'].sum() / df['BILL_AMT3'].sum() * 100).plot(kind = 'bar', color = ['purple','pink'])\n",
    "plt.show()"
   ]
  },
  {
   "cell_type": "code",
   "execution_count": 38,
   "id": "ad704ce4",
   "metadata": {},
   "outputs": [
    {
     "data": {
      "text/plain": [
       "DEFAULT_PAYMENT_NEXT_MONTH\n",
       "0    78.273797\n",
       "1    21.726203\n",
       "Name: BILL_AMT4, dtype: float64"
      ]
     },
     "execution_count": 38,
     "metadata": {},
     "output_type": "execute_result"
    }
   ],
   "source": [
    "df.groupby('DEFAULT_PAYMENT_NEXT_MONTH')['BILL_AMT4'].sum() / df['BILL_AMT4'].sum() * 100"
   ]
  },
  {
   "cell_type": "code",
   "execution_count": 39,
   "id": "64fd9421",
   "metadata": {},
   "outputs": [
    {
     "data": {
      "image/png": "[encoded data removed]",
      "text/plain": [
       "<Figure size 1008x504 with 1 Axes>"
      ]
     },
     "metadata": {
      "needs_background": "light"
     },
     "output_type": "display_data"
    }
   ],
   "source": [
    "plt.figure(figsize = (14,7))\n",
    "(df.groupby('DEFAULT_PAYMENT_NEXT_MONTH')['BILL_AMT4'].sum() / df['BILL_AMT4'].sum() * 100).plot(kind = 'bar', color = ['orange','green'])\n",
    "plt.show()"
   ]
  },
  {
   "cell_type": "code",
   "execution_count": 40,
   "id": "8f313306",
   "metadata": {},
   "outputs": [
    {
     "data": {
      "text/plain": [
       "DEFAULT_PAYMENT_NEXT_MONTH\n",
       "0    78.077637\n",
       "1    21.922363\n",
       "Name: BILL_AMT5, dtype: float64"
      ]
     },
     "execution_count": 40,
     "metadata": {},
     "output_type": "execute_result"
    }
   ],
   "source": [
    "df.groupby('DEFAULT_PAYMENT_NEXT_MONTH')['BILL_AMT5'].sum() / df['BILL_AMT5'].sum() * 100"
   ]
  },
  {
   "cell_type": "code",
   "execution_count": 41,
   "id": "bbc79406",
   "metadata": {},
   "outputs": [
    {
     "data": {
      "image/png": "[encoded data removed]",
      "text/plain": [
       "<Figure size 1008x504 with 1 Axes>"
      ]
     },
     "metadata": {
      "needs_background": "light"
     },
     "output_type": "display_data"
    }
   ],
   "source": [
    "plt.figure(figsize = (14,7))\n",
    "(df.groupby('DEFAULT_PAYMENT_NEXT_MONTH')['BILL_AMT5'].sum() / df['BILL_AMT5'].sum() * 100).plot(kind = 'bar', color = ['black','red'])\n",
    "plt.show()"
   ]
  },
  {
   "cell_type": "code",
   "execution_count": 42,
   "id": "395b5262",
   "metadata": {},
   "outputs": [
    {
     "data": {
      "text/plain": [
       "DEFAULT_PAYMENT_NEXT_MONTH\n",
       "0    78.027014\n",
       "1    21.972986\n",
       "Name: BILL_AMT6, dtype: float64"
      ]
     },
     "execution_count": 42,
     "metadata": {},
     "output_type": "execute_result"
    }
   ],
   "source": [
    "df.groupby('DEFAULT_PAYMENT_NEXT_MONTH')['BILL_AMT6'].sum() / df['BILL_AMT6'].sum() * 100"
   ]
  },
  {
   "cell_type": "code",
   "execution_count": 43,
   "id": "a9cbdff1",
   "metadata": {},
   "outputs": [
    {
     "data": {
      "image/png": "[encoded data removed]",
      "text/plain": [
       "<Figure size 1008x504 with 1 Axes>"
      ]
     },
     "metadata": {
      "needs_background": "light"
     },
     "output_type": "display_data"
    }
   ],
   "source": [
    "plt.figure(figsize = (14,7))\n",
    "(df.groupby('DEFAULT_PAYMENT_NEXT_MONTH')['BILL_AMT6'].sum() / df['BILL_AMT6'].sum() * 100).plot(kind = 'bar', color = ['cornflowerblue','brown'])\n",
    "plt.show()"
   ]
  },
  {
   "cell_type": "markdown",
   "id": "b2152d34",
   "metadata": {},
   "source": [
    "# DATA INTERPRETATION USING GRAPHS"
   ]
  },
  {
   "cell_type": "markdown",
   "id": "ec52e90a",
   "metadata": {},
   "source": [
    "## BIVARIATE ANALYSIS"
   ]
  },
  {
   "cell_type": "markdown",
   "id": "e49b4f86",
   "metadata": {},
   "source": [
    "### CREDIT LIMIT WITH SEX"
   ]
  },
  {
   "cell_type": "code",
   "execution_count": 44,
   "id": "65ea5575",
   "metadata": {},
   "outputs": [
    {
     "data": {
      "image/png": "[encoded data removed]",
      "text/plain": [
       "<Figure size 432x288 with 1 Axes>"
      ]
     },
     "metadata": {
      "needs_background": "light"
     },
     "output_type": "display_data"
    }
   ],
   "source": [
    "sns.boxplot(data = df, x = 'SEX', y = 'LIMIT_BAL')\n",
    "plt.show()\n",
    "\n",
    "## Credit Limit by Sex. The data is evenly distributed amongst males and females."
   ]
  },
  {
   "cell_type": "markdown",
   "id": "b1d8c1c2",
   "metadata": {},
   "source": [
    "### AGE WITH MARRIAGE"
   ]
  },
  {
   "cell_type": "code",
   "execution_count": 45,
   "id": "1a94ce10",
   "metadata": {},
   "outputs": [
    {
     "data": {
      "image/png": "[encoded data removed]",
      "text/plain": [
       "<Figure size 432x288 with 1 Axes>"
      ]
     },
     "metadata": {
      "needs_background": "light"
     },
     "output_type": "display_data"
    }
   ],
   "source": [
    "sns.boxplot(data = df, x = 'MARRIAGE', y = 'AGE', hue = 'SEX')\n",
    "plt.show()\n",
    "\n",
    "## The dataset mostly contains couples in their mid-30s to mid-40s and single people in their mid-20s to early-30s."
   ]
  },
  {
   "cell_type": "markdown",
   "id": "151109f6",
   "metadata": {},
   "source": [
    "### MAXIMUM LIMIT OF CREDIT CARD LIMIT AMOUNT"
   ]
  },
  {
   "cell_type": "code",
   "execution_count": 46,
   "id": "93c514d3",
   "metadata": {},
   "outputs": [
    {
     "data": {
      "image/png": "[encoded data removed]",
      "text/plain": [
       "<Figure size 1008x432 with 1 Axes>"
      ]
     },
     "metadata": {
      "needs_background": "light"
     },
     "output_type": "display_data"
    }
   ],
   "source": [
    "plt.figure(figsize = (14,6))\n",
    "plt.title('Amount of credit limit - Density Plot')\n",
    "\n",
    "sns.set_color_codes(\"pastel\")\n",
    "\n",
    "sns.distplot(df['LIMIT_BAL'], kde = True, bins = 200, color = \"purple\")\n",
    "plt.ticklabel_format(useOffset = False, style = 'plain')\n",
    "\n",
    "plt.show()"
   ]
  },
  {
   "cell_type": "code",
   "execution_count": 47,
   "id": "63d48d95",
   "metadata": {},
   "outputs": [
    {
     "data": {
      "text/plain": [
       "(22016, 25)"
      ]
     },
     "execution_count": 47,
     "metadata": {},
     "output_type": "execute_result"
    }
   ],
   "source": [
    "df[df['LIMIT_BAL'] > 50000].shape"
   ]
  },
  {
   "cell_type": "code",
   "execution_count": 48,
   "id": "3694d80b",
   "metadata": {},
   "outputs": [
    {
     "data": {
      "text/plain": [
       "50000     3331\n",
       "20000     1955\n",
       "30000     1586\n",
       "80000     1542\n",
       "200000    1498\n",
       "Name: LIMIT_BAL, dtype: int64"
      ]
     },
     "execution_count": 48,
     "metadata": {},
     "output_type": "execute_result"
    }
   ],
   "source": [
    "df['LIMIT_BAL'].value_counts().head()"
   ]
  },
  {
   "cell_type": "markdown",
   "id": "dc31e5e5",
   "metadata": {},
   "source": [
    "The largest number of credit cards are with limit of 50,000"
   ]
  },
  {
   "cell_type": "code",
   "execution_count": 49,
   "id": "5ca754f7",
   "metadata": {},
   "outputs": [
    {
     "data": {
      "image/png": "[encoded data removed]",
      "text/plain": [
       "<Figure size 1008x432 with 1 Axes>"
      ]
     },
     "metadata": {
      "needs_background": "light"
     },
     "output_type": "display_data"
    }
   ],
   "source": [
    "class_0 = df.loc[df['DEFAULT_PAYMENT_NEXT_MONTH'] == 0][\"LIMIT_BAL\"]\n",
    "class_1 = df.loc[df['DEFAULT_PAYMENT_NEXT_MONTH'] == 1][\"LIMIT_BAL\"]\n",
    "\n",
    "plt.figure(figsize = (14,6))\n",
    "plt.title('Default amount of credit limit  - Grouped by Payment Next Month (Density Plot)')\n",
    "\n",
    "sns.set_color_codes(\"pastel\")\n",
    "\n",
    "sns.distplot(class_1, kde = True, bins = 200, color = \"red\")\n",
    "sns.distplot(class_0, kde = True, bins = 200, color = \"green\")\n",
    "plt.ticklabel_format(useOffset = False, style = 'plain')\n",
    "\n",
    "plt.show()"
   ]
  },
  {
   "cell_type": "markdown",
   "id": "d6fce675",
   "metadata": {},
   "source": [
    "# CLASS IMBALANCE AND ITS TREATMENT"
   ]
  },
  {
   "cell_type": "code",
   "execution_count": 50,
   "id": "2f528de3",
   "metadata": {},
   "outputs": [
    {
     "data": {
      "text/plain": [
       "0    22996\n",
       "1     6605\n",
       "Name: DEFAULT_PAYMENT_NEXT_MONTH, dtype: int64"
      ]
     },
     "execution_count": 50,
     "metadata": {},
     "output_type": "execute_result"
    }
   ],
   "source": [
    "df['DEFAULT_PAYMENT_NEXT_MONTH'].value_counts()"
   ]
  },
  {
   "cell_type": "code",
   "execution_count": 51,
   "id": "6303fd92",
   "metadata": {},
   "outputs": [
    {
     "data": {
      "text/plain": [
       "0    0.776866\n",
       "1    0.223134\n",
       "Name: DEFAULT_PAYMENT_NEXT_MONTH, dtype: float64"
      ]
     },
     "execution_count": 51,
     "metadata": {},
     "output_type": "execute_result"
    }
   ],
   "source": [
    "df['DEFAULT_PAYMENT_NEXT_MONTH'].value_counts(normalize = True)"
   ]
  },
  {
   "cell_type": "markdown",
   "id": "fbe9985e",
   "metadata": {},
   "source": [
    "There is imbalance in the target variable and but since its not that huge , there is no need to treat the same"
   ]
  },
  {
   "cell_type": "code",
   "execution_count": 52,
   "id": "38f8729f",
   "metadata": {},
   "outputs": [
    {
     "data": {
      "image/png": "[encoded data removed]",
      "text/plain": [
       "<Figure size 432x288 with 1 Axes>"
      ]
     },
     "metadata": {
      "needs_background": "light"
     },
     "output_type": "display_data"
    }
   ],
   "source": [
    "df['DEFAULT_PAYMENT_NEXT_MONTH'].value_counts(normalize = True).plot(kind = 'bar', color = ['darksalmon','midnightblue'])\n",
    "plt.xlabel('DEFAULT PAYMENT NEXT MONTH')\n",
    "plt.show()"
   ]
  },
  {
   "cell_type": "markdown",
   "id": "dff2cb7a",
   "metadata": {},
   "source": [
    "# FEATURES CORRELATION"
   ]
  },
  {
   "cell_type": "code",
   "execution_count": 53,
   "id": "22642a47",
   "metadata": {},
   "outputs": [
    {
     "data": {
      "image/png": "[encoded data removed]",
      "text/plain": [
       "<Figure size 576x576 with 2 Axes>"
      ]
     },
     "metadata": {
      "needs_background": "light"
     },
     "output_type": "display_data"
    }
   ],
   "source": [
    "var = ['BILL_AMT1','BILL_AMT2','BILL_AMT3','BILL_AMT4','BILL_AMT5','BILL_AMT6']\n",
    "\n",
    "plt.figure(figsize = (8,8))\n",
    "plt.title('Amount of bill statement (Apr-Sept) \\ncorrelation plot (Pearson)')\n",
    "\n",
    "corr = df[var].corr()\n",
    "\n",
    "sns.heatmap(corr, xticklabels = corr.columns, yticklabels = corr.columns, linewidths = .1, vmin = -1, vmax = 1)\n",
    "plt.show()"
   ]
  },
  {
   "cell_type": "markdown",
   "id": "a97237aa",
   "metadata": {},
   "source": [
    "Correlation is decreasing with distance between months."
   ]
  },
  {
   "cell_type": "code",
   "execution_count": 54,
   "id": "32c993bb",
   "metadata": {},
   "outputs": [
    {
     "data": {
      "image/png": "[encoded data removed]",
      "text/plain": [
       "<Figure size 576x576 with 2 Axes>"
      ]
     },
     "metadata": {
      "needs_background": "light"
     },
     "output_type": "display_data"
    }
   ],
   "source": [
    "var1 = ['PAY_AMT1', 'PAY_AMT2', 'PAY_AMT3', 'PAY_AMT4', 'PAY_AMT5']\n",
    "\n",
    "plt.figure(figsize = (8,8))\n",
    "plt.title('Amount of previous payment (Apr-Sept) \\ncorrelation plot (Pearson)')\n",
    "\n",
    "corr = df[var1].corr()\n",
    "\n",
    "sns.heatmap(corr, xticklabels = corr.columns, yticklabels = corr.columns, linewidths = .1, vmin = -1, vmax = 1)\n",
    "plt.show()"
   ]
  },
  {
   "cell_type": "markdown",
   "id": "97633a3b",
   "metadata": {},
   "source": [
    "There are no correlations between amounts of previous payments for April-Sept 2005."
   ]
  },
  {
   "cell_type": "code",
   "execution_count": 55,
   "id": "400e0238",
   "metadata": {},
   "outputs": [
    {
     "data": {
      "image/png": "[encoded data removed]",
      "text/plain": [
       "<Figure size 1080x720 with 2 Axes>"
      ]
     },
     "metadata": {
      "needs_background": "light"
     },
     "output_type": "display_data"
    }
   ],
   "source": [
    "plt.figure(figsize = (15,10))\n",
    "sns.heatmap(num_df.corr(),annot = True)\n",
    "plt.show()"
   ]
  },
  {
   "cell_type": "markdown",
   "id": "cef86d24",
   "metadata": {},
   "source": [
    "# PREDICTIVE MODELS"
   ]
  },
  {
   "cell_type": "code",
   "execution_count": 56,
   "id": "84d416a9",
   "metadata": {},
   "outputs": [],
   "source": [
    "df['DEFAULT_PAYMENT_NEXT_MONTH'] = df['DEFAULT_PAYMENT_NEXT_MONTH'].astype('int')"
   ]
  },
  {
   "cell_type": "code",
   "execution_count": 104,
   "id": "25ef0a3e",
   "metadata": {},
   "outputs": [],
   "source": [
    "target = df['DEFAULT_PAYMENT_NEXT_MONTH']\n",
    "\n",
    "predictors = df[['LIMIT_BAL', 'SEX', 'EDUCATION', 'MARRIAGE', 'AGE',\n",
    "              'PAY_1', 'PAY_2', 'PAY_3', 'PAY_4', 'PAY_5', 'PAY_6', \n",
    "              'BILL_AMT1','BILL_AMT2', 'BILL_AMT3', 'BILL_AMT4', 'BILL_AMT5', 'BILL_AMT6',\n",
    "              'PAY_AMT1', 'PAY_AMT2', 'PAY_AMT3', 'PAY_AMT4', 'PAY_AMT5', 'PAY_AMT6']]\n",
    "\n",
    "features = ['LIMIT_BAL', 'SEX', 'EDUCATION', 'MARRIAGE', 'AGE',\n",
    "              'PAY_1', 'PAY_2', 'PAY_3', 'PAY_4', 'PAY_5', 'PAY_6', \n",
    "              'BILL_AMT1','BILL_AMT2', 'BILL_AMT3', 'BILL_AMT4', 'BILL_AMT5', 'BILL_AMT6',\n",
    "              'PAY_AMT1', 'PAY_AMT2', 'PAY_AMT3', 'PAY_AMT4', 'PAY_AMT5', 'PAY_AMT6']"
   ]
  },
  {
   "cell_type": "markdown",
   "id": "accc1d76",
   "metadata": {},
   "source": [
    "# TRAIN TEST SPLIT"
   ]
  },
  {
   "cell_type": "code",
   "execution_count": 105,
   "id": "6f11b591",
   "metadata": {},
   "outputs": [],
   "source": [
    "x_train, x_test, y_train, y_test = train_test_split(predictors,target, test_size = 0.3, random_state = 3, shuffle = True )"
   ]
  },
  {
   "cell_type": "markdown",
   "id": "fadbaabb",
   "metadata": {},
   "source": [
    "# RANDOM FOREST CLASSIFIER"
   ]
  },
  {
   "cell_type": "code",
   "execution_count": 106,
   "id": "fcc12138",
   "metadata": {},
   "outputs": [],
   "source": [
    "clf = RandomForestClassifier(n_jobs = 4, \n",
    "                             random_state = 3,\n",
    "                             criterion = 'gini',\n",
    "                             n_estimators = 100,\n",
    "                             verbose = False)"
   ]
  },
  {
   "cell_type": "code",
   "execution_count": 107,
   "id": "738aaaa9",
   "metadata": {},
   "outputs": [],
   "source": [
    "## Copying data for later usage\n",
    "\n",
    "x_train_df = x_train.copy()\n",
    "x_test_df = x_test.copy()\n",
    "y_train_df = y_train.copy()\n",
    "y_test_df = y_test.copy()"
   ]
  },
  {
   "cell_type": "code",
   "execution_count": 108,
   "id": "7a8cde04",
   "metadata": {},
   "outputs": [
    {
     "data": {
      "text/plain": [
       "RandomForestClassifier(n_jobs=4, random_state=3, verbose=False)"
      ]
     },
     "execution_count": 108,
     "metadata": {},
     "output_type": "execute_result"
    }
   ],
   "source": [
    "clf.fit(x_train, y_train)"
   ]
  },
  {
   "cell_type": "code",
   "execution_count": 109,
   "id": "7e2f4449",
   "metadata": {},
   "outputs": [],
   "source": [
    "preds = clf.predict(x_test)"
   ]
  },
  {
   "cell_type": "code",
   "execution_count": 110,
   "id": "77e01474",
   "metadata": {},
   "outputs": [
    {
     "data": {
      "text/plain": [
       "array([0.06072502, 0.01274792, 0.01975392, 0.01399839, 0.06731161,\n",
       "       0.09181065, 0.04715413, 0.02665618, 0.02361805, 0.0182877 ,\n",
       "       0.01965416, 0.0610192 , 0.05457737, 0.0516724 , 0.05105676,\n",
       "       0.05003566, 0.0503399 , 0.05093525, 0.04876158, 0.0450999 ,\n",
       "       0.04328306, 0.04444992, 0.04705125])"
      ]
     },
     "execution_count": 110,
     "metadata": {},
     "output_type": "execute_result"
    }
   ],
   "source": [
    "clf.feature_importances_"
   ]
  },
  {
   "cell_type": "markdown",
   "id": "1501bdb0",
   "metadata": {},
   "source": [
    "# FEATURE SELECTION"
   ]
  },
  {
   "cell_type": "code",
   "execution_count": 111,
   "id": "492e6c4d",
   "metadata": {},
   "outputs": [
    {
     "data": {
      "image/png": "[encoded data removed]",
      "text/plain": [
       "<Figure size 720x576 with 1 Axes>"
      ]
     },
     "metadata": {
      "needs_background": "light"
     },
     "output_type": "display_data"
    }
   ],
   "source": [
    "tmp = pd.DataFrame({'Feature' : features, 'Feature importance' : clf.feature_importances_})\n",
    "tmp = tmp.sort_values(by = 'Feature importance', ascending = False)\n",
    "\n",
    "plt.figure(figsize = (10,8))\n",
    "plt.title('Features importance',fontsize = 14)\n",
    "\n",
    "s = sns.barplot(x = 'Feature', y = 'Feature importance', data = tmp)\n",
    "s.set_xticklabels(s.get_xticklabels(),rotation = 90)\n",
    "\n",
    "plt.show() "
   ]
  },
  {
   "cell_type": "markdown",
   "id": "38471c05",
   "metadata": {},
   "source": [
    "The most important features are PAY_1, AGE, BILL_AMT1, LIMIT_BAL, BILL_AMT2 and BILL_AMT3."
   ]
  },
  {
   "cell_type": "markdown",
   "id": "9c3c6e6b",
   "metadata": {},
   "source": [
    "# CLASSIFICATION REPORT"
   ]
  },
  {
   "cell_type": "code",
   "execution_count": 112,
   "id": "fe4595e3",
   "metadata": {},
   "outputs": [],
   "source": [
    "clf_cv_score = cross_val_score(clf, predictors, target, cv = 10, scoring = 'roc_auc')"
   ]
  },
  {
   "cell_type": "code",
   "execution_count": 113,
   "id": "4ddf45ad",
   "metadata": {},
   "outputs": [
    {
     "name": "stdout",
     "output_type": "stream",
     "text": [
      "========================= Confusion Matrix =========================\n",
      "\n",
      "\n",
      "[[6482  392]\n",
      " [1265  742]]\n",
      "\n",
      "\n",
      "========================= Classification Report =========================\n",
      "\n",
      "\n",
      "              precision    recall  f1-score   support\n",
      "\n",
      "           0       0.84      0.94      0.89      6874\n",
      "           1       0.65      0.37      0.47      2007\n",
      "\n",
      "    accuracy                           0.81      8881\n",
      "   macro avg       0.75      0.66      0.68      8881\n",
      "weighted avg       0.80      0.81      0.79      8881\n",
      "\n",
      "\n",
      "\n",
      "========================= All AUC Scores =========================\n",
      "\n",
      "\n",
      "[0.74045846 0.74086576 0.75046212 0.73368445 0.76223465 0.78360639\n",
      " 0.79499045 0.76866535 0.78300132 0.785778  ]\n",
      "\n",
      "\n",
      "========================= Mean AUC Score =========================\n",
      "\n",
      "\n",
      "Mean AUC Score - Random Forest: 0.7643746935277562\n"
     ]
    }
   ],
   "source": [
    "print('========================= Confusion Matrix =========================')\n",
    "print('\\n')\n",
    "print(confusion_matrix(y_test, preds))\n",
    "print('\\n')\n",
    "\n",
    "print('========================= Classification Report =========================')\n",
    "print('\\n')\n",
    "print(classification_report(y_test, preds))\n",
    "print('\\n')\n",
    "\n",
    "print('========================= All AUC Scores =========================')\n",
    "print('\\n')\n",
    "print(clf_cv_score)\n",
    "print('\\n')\n",
    "\n",
    "print('========================= Mean AUC Score =========================')\n",
    "print('\\n')\n",
    "print('Mean AUC Score - Random Forest:',clf_cv_score.mean())"
   ]
  },
  {
   "cell_type": "markdown",
   "id": "559c6910",
   "metadata": {},
   "source": [
    "# CONFUSION MATRIX"
   ]
  },
  {
   "cell_type": "code",
   "execution_count": 116,
   "id": "482784e2",
   "metadata": {},
   "outputs": [
    {
     "data": {
      "image/png": "[encoded data removed]",
      "text/plain": [
       "<Figure size 360x360 with 2 Axes>"
      ]
     },
     "metadata": {
      "needs_background": "light"
     },
     "output_type": "display_data"
    }
   ],
   "source": [
    "cm = pd.crosstab(y_test, preds, rownames = ['Actual'], colnames = ['Predicted'])\n",
    "\n",
    "fig, (ax1) = plt.subplots(ncols = 1, figsize = (5,5))\n",
    "\n",
    "sns.heatmap(cm, \n",
    "            xticklabels = ['Not Default', 'Default'],\n",
    "            yticklabels = ['Not Default', 'Default'],\n",
    "            annot = True, ax = ax1,\n",
    "            linewidths = .2, linecolor = \"Darkblue\", cmap = \"Blues\")\n",
    "\n",
    "plt.title('Confusion Matrix', fontsize = 14)\n",
    "plt.show()"
   ]
  },
  {
   "cell_type": "markdown",
   "id": "4981ec17",
   "metadata": {},
   "source": [
    "### roc_auc_score"
   ]
  },
  {
   "cell_type": "code",
   "execution_count": 118,
   "id": "789dea05",
   "metadata": {},
   "outputs": [
    {
     "data": {
      "text/plain": [
       "0.6563397761602213"
      ]
     },
     "execution_count": 118,
     "metadata": {},
     "output_type": "execute_result"
    }
   ],
   "source": [
    "## Calculating the area under curve(receiver operator characteristic)\n",
    "\n",
    "roc_auc_score(y_test, preds)"
   ]
  },
  {
   "cell_type": "markdown",
   "id": "1e1deaef",
   "metadata": {},
   "source": [
    "# RANDOM FOREST WITH ONE HOT ENCODER"
   ]
  },
  {
   "cell_type": "code",
   "execution_count": 137,
   "id": "0a8af3d2",
   "metadata": {},
   "outputs": [],
   "source": [
    "df['DEFAULT_PAYMENT_NEXT_MONTH'] = df['DEFAULT_PAYMENT_NEXT_MONTH'].astype('int')"
   ]
  },
  {
   "cell_type": "code",
   "execution_count": 138,
   "id": "0c38ca40",
   "metadata": {},
   "outputs": [],
   "source": [
    "cat_df1 = df.select_dtypes(exclude = np.number)"
   ]
  },
  {
   "cell_type": "code",
   "execution_count": 139,
   "id": "9dda5e53",
   "metadata": {},
   "outputs": [],
   "source": [
    "x_train_f_df = pd.get_dummies(x_train_df, columns = cat_df1.columns, drop_first = True)\n",
    "x_test_f_df = pd.get_dummies(x_test_df, columns = cat_df1.columns, drop_first = True)\n",
    "y_train_f_df = pd.get_dummies(y_train_df, columns = cat_df1.columns, drop_first = True)\n",
    "y_test_f_df = pd.get_dummies(y_test_df, columns = cat_df1.columns, drop_first = True)"
   ]
  },
  {
   "cell_type": "code",
   "execution_count": 140,
   "id": "ee0ce202",
   "metadata": {},
   "outputs": [
    {
     "name": "stdout",
     "output_type": "stream",
     "text": [
      "Default of Credit Card Clients xtrain data -  rows: 20720  columns: 77\n",
      "Default of Credit Card Clients xtest data -  rows: 8881  columns: 74\n",
      "Default of Credit Card Clients ytrain data -  rows: 20720  columns: 1\n",
      "Default of Credit Card Clients ytest data -  rows: 8881  columns: 1\n"
     ]
    }
   ],
   "source": [
    "print(\"Default of Credit Card Clients xtrain data -  rows:\",x_train_f_df.shape[0],\" columns:\", x_train_f_df.shape[1])\n",
    "print(\"Default of Credit Card Clients xtest data -  rows:\",x_test_f_df.shape[0],\" columns:\", x_test_f_df.shape[1])\n",
    "\n",
    "print(\"Default of Credit Card Clients ytrain data -  rows:\",y_train_f_df.shape[0],\" columns:\", y_train_f_df.shape[1])\n",
    "print(\"Default of Credit Card Clients ytest data -  rows:\",y_test_f_df.shape[0],\" columns:\", y_test_f_df.shape[1])"
   ]
  },
  {
   "cell_type": "markdown",
   "id": "5a4e4f3a",
   "metadata": {},
   "source": [
    "Columns are not equal. So we need to align them."
   ]
  },
  {
   "cell_type": "code",
   "execution_count": 141,
   "id": "78fb4786",
   "metadata": {},
   "outputs": [],
   "source": [
    "x_train_fa_df, x_test_fa_df = x_train_f_df.align(x_test_f_df, join = 'outer', axis = 1, fill_value = 0)\n",
    "y_train_fa_df, y_test_fa_df = y_train_f_df.align(y_test_f_df, join = 'outer', axis = 1, fill_value = 0)"
   ]
  },
  {
   "cell_type": "code",
   "execution_count": 142,
   "id": "4fe8c5ed",
   "metadata": {},
   "outputs": [
    {
     "name": "stdout",
     "output_type": "stream",
     "text": [
      "Default of Credit Card Clients xtrain data -  rows: 20720  columns: 78\n",
      "Default of Credit Card Clients xtest data -  rows: 8881  columns: 78\n",
      "Default of Credit Card Clients ytrain data -  rows: 20720  columns: 1\n",
      "Default of Credit Card Clients ytest data -  rows: 8881  columns: 1\n"
     ]
    }
   ],
   "source": [
    "print(\"Default of Credit Card Clients xtrain data -  rows:\",x_train_fa_df.shape[0],\" columns:\", x_train_fa_df.shape[1])\n",
    "print(\"Default of Credit Card Clients xtest data -  rows:\",x_test_fa_df.shape[0],\" columns:\", x_test_fa_df.shape[1])\n",
    "\n",
    "print(\"Default of Credit Card Clients ytrain data -  rows:\",y_train_fa_df.shape[0],\" columns:\", y_train_fa_df.shape[1])\n",
    "print(\"Default of Credit Card Clients ytest data -  rows:\",y_test_fa_df.shape[0],\" columns:\", y_test_fa_df.shape[1])"
   ]
  },
  {
   "cell_type": "code",
   "execution_count": 143,
   "id": "e0c42c04",
   "metadata": {},
   "outputs": [
    {
     "data": {
      "text/html": [
       "<div>\n",
       "<style scoped>\n",
       "    .dataframe tbody tr th:only-of-type {\n",
       "        vertical-align: middle;\n",
       "    }\n",
       "\n",
       "    .dataframe tbody tr th {\n",
       "        vertical-align: top;\n",
       "    }\n",
       "\n",
       "    .dataframe thead th {\n",
       "        text-align: right;\n",
       "    }\n",
       "</style>\n",
       "<table border=\"1\" class=\"dataframe\">\n",
       "  <thead>\n",
       "    <tr style=\"text-align: right;\">\n",
       "      <th></th>\n",
       "      <th>AGE</th>\n",
       "      <th>BILL_AMT1</th>\n",
       "      <th>BILL_AMT2</th>\n",
       "      <th>BILL_AMT3</th>\n",
       "      <th>BILL_AMT4</th>\n",
       "      <th>BILL_AMT5</th>\n",
       "      <th>BILL_AMT6</th>\n",
       "      <th>EDUCATION_2</th>\n",
       "      <th>EDUCATION_3</th>\n",
       "      <th>EDUCATION_4</th>\n",
       "      <th>LIMIT_BAL</th>\n",
       "      <th>MARRIAGE_2</th>\n",
       "      <th>MARRIAGE_3</th>\n",
       "      <th>PAY_1_-1</th>\n",
       "      <th>PAY_1_0</th>\n",
       "      <th>PAY_1_1</th>\n",
       "      <th>PAY_1_2</th>\n",
       "      <th>PAY_1_3</th>\n",
       "      <th>PAY_1_4</th>\n",
       "      <th>PAY_1_5</th>\n",
       "      <th>PAY_1_6</th>\n",
       "      <th>PAY_1_7</th>\n",
       "      <th>PAY_1_8</th>\n",
       "      <th>PAY_2_-1</th>\n",
       "      <th>PAY_2_0</th>\n",
       "      <th>PAY_2_1</th>\n",
       "      <th>PAY_2_2</th>\n",
       "      <th>PAY_2_3</th>\n",
       "      <th>PAY_2_4</th>\n",
       "      <th>PAY_2_5</th>\n",
       "      <th>PAY_2_6</th>\n",
       "      <th>PAY_2_7</th>\n",
       "      <th>PAY_2_8</th>\n",
       "      <th>PAY_3_-1</th>\n",
       "      <th>PAY_3_0</th>\n",
       "      <th>PAY_3_1</th>\n",
       "      <th>PAY_3_2</th>\n",
       "      <th>PAY_3_3</th>\n",
       "      <th>PAY_3_4</th>\n",
       "      <th>PAY_3_5</th>\n",
       "      <th>PAY_3_6</th>\n",
       "      <th>PAY_3_7</th>\n",
       "      <th>PAY_3_8</th>\n",
       "      <th>PAY_4_-1</th>\n",
       "      <th>PAY_4_0</th>\n",
       "      <th>PAY_4_1</th>\n",
       "      <th>PAY_4_2</th>\n",
       "      <th>PAY_4_3</th>\n",
       "      <th>PAY_4_4</th>\n",
       "      <th>PAY_4_5</th>\n",
       "      <th>PAY_4_6</th>\n",
       "      <th>PAY_4_7</th>\n",
       "      <th>PAY_4_8</th>\n",
       "      <th>PAY_5_-1</th>\n",
       "      <th>PAY_5_0</th>\n",
       "      <th>PAY_5_2</th>\n",
       "      <th>PAY_5_3</th>\n",
       "      <th>PAY_5_4</th>\n",
       "      <th>PAY_5_5</th>\n",
       "      <th>PAY_5_6</th>\n",
       "      <th>PAY_5_7</th>\n",
       "      <th>PAY_5_8</th>\n",
       "      <th>PAY_6_-1</th>\n",
       "      <th>PAY_6_0</th>\n",
       "      <th>PAY_6_2</th>\n",
       "      <th>PAY_6_3</th>\n",
       "      <th>PAY_6_4</th>\n",
       "      <th>PAY_6_5</th>\n",
       "      <th>PAY_6_6</th>\n",
       "      <th>PAY_6_7</th>\n",
       "      <th>PAY_6_8</th>\n",
       "      <th>PAY_AMT1</th>\n",
       "      <th>PAY_AMT2</th>\n",
       "      <th>PAY_AMT3</th>\n",
       "      <th>PAY_AMT4</th>\n",
       "      <th>PAY_AMT5</th>\n",
       "      <th>PAY_AMT6</th>\n",
       "      <th>SEX_2</th>\n",
       "    </tr>\n",
       "  </thead>\n",
       "  <tbody>\n",
       "    <tr>\n",
       "      <th>14190</th>\n",
       "      <td>33</td>\n",
       "      <td>79099</td>\n",
       "      <td>80828</td>\n",
       "      <td>82583</td>\n",
       "      <td>84687</td>\n",
       "      <td>84832</td>\n",
       "      <td>84576</td>\n",
       "      <td>0</td>\n",
       "      <td>0</td>\n",
       "      <td>0</td>\n",
       "      <td>380000</td>\n",
       "      <td>1</td>\n",
       "      <td>0</td>\n",
       "      <td>0</td>\n",
       "      <td>1</td>\n",
       "      <td>0</td>\n",
       "      <td>0</td>\n",
       "      <td>0</td>\n",
       "      <td>0</td>\n",
       "      <td>0</td>\n",
       "      <td>0</td>\n",
       "      <td>0</td>\n",
       "      <td>0</td>\n",
       "      <td>0</td>\n",
       "      <td>1</td>\n",
       "      <td>0</td>\n",
       "      <td>0</td>\n",
       "      <td>0</td>\n",
       "      <td>0</td>\n",
       "      <td>0</td>\n",
       "      <td>0</td>\n",
       "      <td>0</td>\n",
       "      <td>0</td>\n",
       "      <td>0</td>\n",
       "      <td>1</td>\n",
       "      <td>0</td>\n",
       "      <td>0</td>\n",
       "      <td>0</td>\n",
       "      <td>0</td>\n",
       "      <td>0</td>\n",
       "      <td>0</td>\n",
       "      <td>0</td>\n",
       "      <td>0</td>\n",
       "      <td>0</td>\n",
       "      <td>1</td>\n",
       "      <td>0</td>\n",
       "      <td>0</td>\n",
       "      <td>0</td>\n",
       "      <td>0</td>\n",
       "      <td>0</td>\n",
       "      <td>0</td>\n",
       "      <td>0</td>\n",
       "      <td>0</td>\n",
       "      <td>0</td>\n",
       "      <td>1</td>\n",
       "      <td>0</td>\n",
       "      <td>0</td>\n",
       "      <td>0</td>\n",
       "      <td>0</td>\n",
       "      <td>0</td>\n",
       "      <td>0</td>\n",
       "      <td>0</td>\n",
       "      <td>0</td>\n",
       "      <td>1</td>\n",
       "      <td>0</td>\n",
       "      <td>0</td>\n",
       "      <td>0</td>\n",
       "      <td>0</td>\n",
       "      <td>0</td>\n",
       "      <td>0</td>\n",
       "      <td>0</td>\n",
       "      <td>3000</td>\n",
       "      <td>3100</td>\n",
       "      <td>3500</td>\n",
       "      <td>3500</td>\n",
       "      <td>3200</td>\n",
       "      <td>3000</td>\n",
       "      <td>0</td>\n",
       "    </tr>\n",
       "    <tr>\n",
       "      <th>15001</th>\n",
       "      <td>22</td>\n",
       "      <td>205736</td>\n",
       "      <td>199379</td>\n",
       "      <td>132963</td>\n",
       "      <td>145115</td>\n",
       "      <td>153040</td>\n",
       "      <td>155636</td>\n",
       "      <td>1</td>\n",
       "      <td>0</td>\n",
       "      <td>0</td>\n",
       "      <td>200000</td>\n",
       "      <td>1</td>\n",
       "      <td>0</td>\n",
       "      <td>0</td>\n",
       "      <td>1</td>\n",
       "      <td>0</td>\n",
       "      <td>0</td>\n",
       "      <td>0</td>\n",
       "      <td>0</td>\n",
       "      <td>0</td>\n",
       "      <td>0</td>\n",
       "      <td>0</td>\n",
       "      <td>0</td>\n",
       "      <td>0</td>\n",
       "      <td>1</td>\n",
       "      <td>0</td>\n",
       "      <td>0</td>\n",
       "      <td>0</td>\n",
       "      <td>0</td>\n",
       "      <td>0</td>\n",
       "      <td>0</td>\n",
       "      <td>0</td>\n",
       "      <td>0</td>\n",
       "      <td>0</td>\n",
       "      <td>1</td>\n",
       "      <td>0</td>\n",
       "      <td>0</td>\n",
       "      <td>0</td>\n",
       "      <td>0</td>\n",
       "      <td>0</td>\n",
       "      <td>0</td>\n",
       "      <td>0</td>\n",
       "      <td>0</td>\n",
       "      <td>0</td>\n",
       "      <td>1</td>\n",
       "      <td>0</td>\n",
       "      <td>0</td>\n",
       "      <td>0</td>\n",
       "      <td>0</td>\n",
       "      <td>0</td>\n",
       "      <td>0</td>\n",
       "      <td>0</td>\n",
       "      <td>0</td>\n",
       "      <td>0</td>\n",
       "      <td>1</td>\n",
       "      <td>0</td>\n",
       "      <td>0</td>\n",
       "      <td>0</td>\n",
       "      <td>0</td>\n",
       "      <td>0</td>\n",
       "      <td>0</td>\n",
       "      <td>0</td>\n",
       "      <td>0</td>\n",
       "      <td>0</td>\n",
       "      <td>1</td>\n",
       "      <td>0</td>\n",
       "      <td>0</td>\n",
       "      <td>0</td>\n",
       "      <td>0</td>\n",
       "      <td>0</td>\n",
       "      <td>0</td>\n",
       "      <td>7758</td>\n",
       "      <td>5001</td>\n",
       "      <td>15000</td>\n",
       "      <td>10800</td>\n",
       "      <td>5600</td>\n",
       "      <td>0</td>\n",
       "      <td>1</td>\n",
       "    </tr>\n",
       "    <tr>\n",
       "      <th>27610</th>\n",
       "      <td>28</td>\n",
       "      <td>79573</td>\n",
       "      <td>81449</td>\n",
       "      <td>83241</td>\n",
       "      <td>84960</td>\n",
       "      <td>86045</td>\n",
       "      <td>88060</td>\n",
       "      <td>1</td>\n",
       "      <td>0</td>\n",
       "      <td>0</td>\n",
       "      <td>110000</td>\n",
       "      <td>1</td>\n",
       "      <td>0</td>\n",
       "      <td>0</td>\n",
       "      <td>1</td>\n",
       "      <td>0</td>\n",
       "      <td>0</td>\n",
       "      <td>0</td>\n",
       "      <td>0</td>\n",
       "      <td>0</td>\n",
       "      <td>0</td>\n",
       "      <td>0</td>\n",
       "      <td>0</td>\n",
       "      <td>0</td>\n",
       "      <td>1</td>\n",
       "      <td>0</td>\n",
       "      <td>0</td>\n",
       "      <td>0</td>\n",
       "      <td>0</td>\n",
       "      <td>0</td>\n",
       "      <td>0</td>\n",
       "      <td>0</td>\n",
       "      <td>0</td>\n",
       "      <td>0</td>\n",
       "      <td>1</td>\n",
       "      <td>0</td>\n",
       "      <td>0</td>\n",
       "      <td>0</td>\n",
       "      <td>0</td>\n",
       "      <td>0</td>\n",
       "      <td>0</td>\n",
       "      <td>0</td>\n",
       "      <td>0</td>\n",
       "      <td>0</td>\n",
       "      <td>1</td>\n",
       "      <td>0</td>\n",
       "      <td>0</td>\n",
       "      <td>0</td>\n",
       "      <td>0</td>\n",
       "      <td>0</td>\n",
       "      <td>0</td>\n",
       "      <td>0</td>\n",
       "      <td>0</td>\n",
       "      <td>0</td>\n",
       "      <td>1</td>\n",
       "      <td>0</td>\n",
       "      <td>0</td>\n",
       "      <td>0</td>\n",
       "      <td>0</td>\n",
       "      <td>0</td>\n",
       "      <td>0</td>\n",
       "      <td>0</td>\n",
       "      <td>0</td>\n",
       "      <td>1</td>\n",
       "      <td>0</td>\n",
       "      <td>0</td>\n",
       "      <td>0</td>\n",
       "      <td>0</td>\n",
       "      <td>0</td>\n",
       "      <td>0</td>\n",
       "      <td>0</td>\n",
       "      <td>3800</td>\n",
       "      <td>4000</td>\n",
       "      <td>4000</td>\n",
       "      <td>3400</td>\n",
       "      <td>3400</td>\n",
       "      <td>7000</td>\n",
       "      <td>1</td>\n",
       "    </tr>\n",
       "  </tbody>\n",
       "</table>\n",
       "</div>"
      ],
      "text/plain": [
       "       AGE  BILL_AMT1  BILL_AMT2  BILL_AMT3  BILL_AMT4  BILL_AMT5  BILL_AMT6  \\\n",
       "14190   33      79099      80828      82583      84687      84832      84576   \n",
       "15001   22     205736     199379     132963     145115     153040     155636   \n",
       "27610   28      79573      81449      83241      84960      86045      88060   \n",
       "\n",
       "       EDUCATION_2  EDUCATION_3  EDUCATION_4  LIMIT_BAL  MARRIAGE_2  \\\n",
       "14190            0            0            0     380000           1   \n",
       "15001            1            0            0     200000           1   \n",
       "27610            1            0            0     110000           1   \n",
       "\n",
       "       MARRIAGE_3  PAY_1_-1  PAY_1_0  PAY_1_1  PAY_1_2  PAY_1_3  PAY_1_4  \\\n",
       "14190           0         0        1        0        0        0        0   \n",
       "15001           0         0        1        0        0        0        0   \n",
       "27610           0         0        1        0        0        0        0   \n",
       "\n",
       "       PAY_1_5  PAY_1_6  PAY_1_7  PAY_1_8  PAY_2_-1  PAY_2_0  PAY_2_1  \\\n",
       "14190        0        0        0        0         0        1        0   \n",
       "15001        0        0        0        0         0        1        0   \n",
       "27610        0        0        0        0         0        1        0   \n",
       "\n",
       "       PAY_2_2  PAY_2_3  PAY_2_4  PAY_2_5  PAY_2_6  PAY_2_7  PAY_2_8  \\\n",
       "14190        0        0        0        0        0        0        0   \n",
       "15001        0        0        0        0        0        0        0   \n",
       "27610        0        0        0        0        0        0        0   \n",
       "\n",
       "       PAY_3_-1  PAY_3_0  PAY_3_1  PAY_3_2  PAY_3_3  PAY_3_4  PAY_3_5  \\\n",
       "14190         0        1        0        0        0        0        0   \n",
       "15001         0        1        0        0        0        0        0   \n",
       "27610         0        1        0        0        0        0        0   \n",
       "\n",
       "       PAY_3_6  PAY_3_7  PAY_3_8  PAY_4_-1  PAY_4_0  PAY_4_1  PAY_4_2  \\\n",
       "14190        0        0        0         0        1        0        0   \n",
       "15001        0        0        0         0        1        0        0   \n",
       "27610        0        0        0         0        1        0        0   \n",
       "\n",
       "       PAY_4_3  PAY_4_4  PAY_4_5  PAY_4_6  PAY_4_7  PAY_4_8  PAY_5_-1  \\\n",
       "14190        0        0        0        0        0        0         0   \n",
       "15001        0        0        0        0        0        0         0   \n",
       "27610        0        0        0        0        0        0         0   \n",
       "\n",
       "       PAY_5_0  PAY_5_2  PAY_5_3  PAY_5_4  PAY_5_5  PAY_5_6  PAY_5_7  PAY_5_8  \\\n",
       "14190        1        0        0        0        0        0        0        0   \n",
       "15001        1        0        0        0        0        0        0        0   \n",
       "27610        1        0        0        0        0        0        0        0   \n",
       "\n",
       "       PAY_6_-1  PAY_6_0  PAY_6_2  PAY_6_3  PAY_6_4  PAY_6_5  PAY_6_6  \\\n",
       "14190         0        1        0        0        0        0        0   \n",
       "15001         0        0        1        0        0        0        0   \n",
       "27610         0        1        0        0        0        0        0   \n",
       "\n",
       "       PAY_6_7  PAY_6_8  PAY_AMT1  PAY_AMT2  PAY_AMT3  PAY_AMT4  PAY_AMT5  \\\n",
       "14190        0        0      3000      3100      3500      3500      3200   \n",
       "15001        0        0      7758      5001     15000     10800      5600   \n",
       "27610        0        0      3800      4000      4000      3400      3400   \n",
       "\n",
       "       PAY_AMT6  SEX_2  \n",
       "14190      3000      0  \n",
       "15001         0      1  \n",
       "27610      7000      1  "
      ]
     },
     "execution_count": 143,
     "metadata": {},
     "output_type": "execute_result"
    }
   ],
   "source": [
    "x_train_fa_df.head(3)"
   ]
  },
  {
   "cell_type": "code",
   "execution_count": 150,
   "id": "34114030",
   "metadata": {},
   "outputs": [
    {
     "data": {
      "text/html": [
       "<div>\n",
       "<style scoped>\n",
       "    .dataframe tbody tr th:only-of-type {\n",
       "        vertical-align: middle;\n",
       "    }\n",
       "\n",
       "    .dataframe tbody tr th {\n",
       "        vertical-align: top;\n",
       "    }\n",
       "\n",
       "    .dataframe thead th {\n",
       "        text-align: right;\n",
       "    }\n",
       "</style>\n",
       "<table border=\"1\" class=\"dataframe\">\n",
       "  <thead>\n",
       "    <tr style=\"text-align: right;\">\n",
       "      <th></th>\n",
       "      <th>AGE</th>\n",
       "      <th>BILL_AMT1</th>\n",
       "      <th>BILL_AMT2</th>\n",
       "      <th>BILL_AMT3</th>\n",
       "      <th>BILL_AMT4</th>\n",
       "      <th>BILL_AMT5</th>\n",
       "      <th>BILL_AMT6</th>\n",
       "      <th>EDUCATION_2</th>\n",
       "      <th>EDUCATION_3</th>\n",
       "      <th>EDUCATION_4</th>\n",
       "      <th>LIMIT_BAL</th>\n",
       "      <th>MARRIAGE_2</th>\n",
       "      <th>MARRIAGE_3</th>\n",
       "      <th>PAY_1_-1</th>\n",
       "      <th>PAY_1_0</th>\n",
       "      <th>PAY_1_1</th>\n",
       "      <th>PAY_1_2</th>\n",
       "      <th>PAY_1_3</th>\n",
       "      <th>PAY_1_4</th>\n",
       "      <th>PAY_1_5</th>\n",
       "      <th>PAY_1_6</th>\n",
       "      <th>PAY_1_7</th>\n",
       "      <th>PAY_1_8</th>\n",
       "      <th>PAY_2_-1</th>\n",
       "      <th>PAY_2_0</th>\n",
       "      <th>PAY_2_1</th>\n",
       "      <th>PAY_2_2</th>\n",
       "      <th>PAY_2_3</th>\n",
       "      <th>PAY_2_4</th>\n",
       "      <th>PAY_2_5</th>\n",
       "      <th>PAY_2_6</th>\n",
       "      <th>PAY_2_7</th>\n",
       "      <th>PAY_2_8</th>\n",
       "      <th>PAY_3_-1</th>\n",
       "      <th>PAY_3_0</th>\n",
       "      <th>PAY_3_1</th>\n",
       "      <th>PAY_3_2</th>\n",
       "      <th>PAY_3_3</th>\n",
       "      <th>PAY_3_4</th>\n",
       "      <th>PAY_3_5</th>\n",
       "      <th>PAY_3_6</th>\n",
       "      <th>PAY_3_7</th>\n",
       "      <th>PAY_3_8</th>\n",
       "      <th>PAY_4_-1</th>\n",
       "      <th>PAY_4_0</th>\n",
       "      <th>PAY_4_1</th>\n",
       "      <th>PAY_4_2</th>\n",
       "      <th>PAY_4_3</th>\n",
       "      <th>PAY_4_4</th>\n",
       "      <th>PAY_4_5</th>\n",
       "      <th>PAY_4_6</th>\n",
       "      <th>PAY_4_7</th>\n",
       "      <th>PAY_4_8</th>\n",
       "      <th>PAY_5_-1</th>\n",
       "      <th>PAY_5_0</th>\n",
       "      <th>PAY_5_2</th>\n",
       "      <th>PAY_5_3</th>\n",
       "      <th>PAY_5_4</th>\n",
       "      <th>PAY_5_5</th>\n",
       "      <th>PAY_5_6</th>\n",
       "      <th>PAY_5_7</th>\n",
       "      <th>PAY_5_8</th>\n",
       "      <th>PAY_6_-1</th>\n",
       "      <th>PAY_6_0</th>\n",
       "      <th>PAY_6_2</th>\n",
       "      <th>PAY_6_3</th>\n",
       "      <th>PAY_6_4</th>\n",
       "      <th>PAY_6_5</th>\n",
       "      <th>PAY_6_6</th>\n",
       "      <th>PAY_6_7</th>\n",
       "      <th>PAY_6_8</th>\n",
       "      <th>PAY_AMT1</th>\n",
       "      <th>PAY_AMT2</th>\n",
       "      <th>PAY_AMT3</th>\n",
       "      <th>PAY_AMT4</th>\n",
       "      <th>PAY_AMT5</th>\n",
       "      <th>PAY_AMT6</th>\n",
       "      <th>SEX_2</th>\n",
       "    </tr>\n",
       "  </thead>\n",
       "  <tbody>\n",
       "    <tr>\n",
       "      <th>9421</th>\n",
       "      <td>23</td>\n",
       "      <td>49235</td>\n",
       "      <td>45173</td>\n",
       "      <td>39585</td>\n",
       "      <td>36189</td>\n",
       "      <td>21772</td>\n",
       "      <td>21417</td>\n",
       "      <td>1</td>\n",
       "      <td>0</td>\n",
       "      <td>0</td>\n",
       "      <td>140000</td>\n",
       "      <td>1</td>\n",
       "      <td>0</td>\n",
       "      <td>0</td>\n",
       "      <td>1</td>\n",
       "      <td>0</td>\n",
       "      <td>0</td>\n",
       "      <td>0</td>\n",
       "      <td>0</td>\n",
       "      <td>0</td>\n",
       "      <td>0</td>\n",
       "      <td>0</td>\n",
       "      <td>0</td>\n",
       "      <td>0</td>\n",
       "      <td>1</td>\n",
       "      <td>0</td>\n",
       "      <td>0</td>\n",
       "      <td>0</td>\n",
       "      <td>0</td>\n",
       "      <td>0</td>\n",
       "      <td>0</td>\n",
       "      <td>0</td>\n",
       "      <td>0</td>\n",
       "      <td>0</td>\n",
       "      <td>1</td>\n",
       "      <td>0</td>\n",
       "      <td>0</td>\n",
       "      <td>0</td>\n",
       "      <td>0</td>\n",
       "      <td>0</td>\n",
       "      <td>0</td>\n",
       "      <td>0</td>\n",
       "      <td>0</td>\n",
       "      <td>0</td>\n",
       "      <td>1</td>\n",
       "      <td>0</td>\n",
       "      <td>0</td>\n",
       "      <td>0</td>\n",
       "      <td>0</td>\n",
       "      <td>0</td>\n",
       "      <td>0</td>\n",
       "      <td>0</td>\n",
       "      <td>0</td>\n",
       "      <td>0</td>\n",
       "      <td>1</td>\n",
       "      <td>0</td>\n",
       "      <td>0</td>\n",
       "      <td>0</td>\n",
       "      <td>0</td>\n",
       "      <td>0</td>\n",
       "      <td>0</td>\n",
       "      <td>0</td>\n",
       "      <td>0</td>\n",
       "      <td>1</td>\n",
       "      <td>0</td>\n",
       "      <td>0</td>\n",
       "      <td>0</td>\n",
       "      <td>0</td>\n",
       "      <td>0</td>\n",
       "      <td>0</td>\n",
       "      <td>0</td>\n",
       "      <td>2517</td>\n",
       "      <td>1559</td>\n",
       "      <td>2000</td>\n",
       "      <td>1003</td>\n",
       "      <td>1000</td>\n",
       "      <td>1002</td>\n",
       "      <td>1</td>\n",
       "    </tr>\n",
       "    <tr>\n",
       "      <th>14836</th>\n",
       "      <td>42</td>\n",
       "      <td>40466</td>\n",
       "      <td>41805</td>\n",
       "      <td>42520</td>\n",
       "      <td>43378</td>\n",
       "      <td>46664</td>\n",
       "      <td>47341</td>\n",
       "      <td>0</td>\n",
       "      <td>0</td>\n",
       "      <td>0</td>\n",
       "      <td>70000</td>\n",
       "      <td>0</td>\n",
       "      <td>0</td>\n",
       "      <td>0</td>\n",
       "      <td>1</td>\n",
       "      <td>0</td>\n",
       "      <td>0</td>\n",
       "      <td>0</td>\n",
       "      <td>0</td>\n",
       "      <td>0</td>\n",
       "      <td>0</td>\n",
       "      <td>0</td>\n",
       "      <td>0</td>\n",
       "      <td>0</td>\n",
       "      <td>1</td>\n",
       "      <td>0</td>\n",
       "      <td>0</td>\n",
       "      <td>0</td>\n",
       "      <td>0</td>\n",
       "      <td>0</td>\n",
       "      <td>0</td>\n",
       "      <td>0</td>\n",
       "      <td>0</td>\n",
       "      <td>0</td>\n",
       "      <td>1</td>\n",
       "      <td>0</td>\n",
       "      <td>0</td>\n",
       "      <td>0</td>\n",
       "      <td>0</td>\n",
       "      <td>0</td>\n",
       "      <td>0</td>\n",
       "      <td>0</td>\n",
       "      <td>0</td>\n",
       "      <td>0</td>\n",
       "      <td>1</td>\n",
       "      <td>0</td>\n",
       "      <td>0</td>\n",
       "      <td>0</td>\n",
       "      <td>0</td>\n",
       "      <td>0</td>\n",
       "      <td>0</td>\n",
       "      <td>0</td>\n",
       "      <td>0</td>\n",
       "      <td>0</td>\n",
       "      <td>1</td>\n",
       "      <td>0</td>\n",
       "      <td>0</td>\n",
       "      <td>0</td>\n",
       "      <td>0</td>\n",
       "      <td>0</td>\n",
       "      <td>0</td>\n",
       "      <td>0</td>\n",
       "      <td>0</td>\n",
       "      <td>0</td>\n",
       "      <td>1</td>\n",
       "      <td>0</td>\n",
       "      <td>0</td>\n",
       "      <td>0</td>\n",
       "      <td>0</td>\n",
       "      <td>0</td>\n",
       "      <td>0</td>\n",
       "      <td>1994</td>\n",
       "      <td>1709</td>\n",
       "      <td>1567</td>\n",
       "      <td>4000</td>\n",
       "      <td>1600</td>\n",
       "      <td>2000</td>\n",
       "      <td>1</td>\n",
       "    </tr>\n",
       "    <tr>\n",
       "      <th>7129</th>\n",
       "      <td>39</td>\n",
       "      <td>61708</td>\n",
       "      <td>65080</td>\n",
       "      <td>68835</td>\n",
       "      <td>41462</td>\n",
       "      <td>36589</td>\n",
       "      <td>39985</td>\n",
       "      <td>0</td>\n",
       "      <td>0</td>\n",
       "      <td>0</td>\n",
       "      <td>80000</td>\n",
       "      <td>0</td>\n",
       "      <td>0</td>\n",
       "      <td>0</td>\n",
       "      <td>1</td>\n",
       "      <td>0</td>\n",
       "      <td>0</td>\n",
       "      <td>0</td>\n",
       "      <td>0</td>\n",
       "      <td>0</td>\n",
       "      <td>0</td>\n",
       "      <td>0</td>\n",
       "      <td>0</td>\n",
       "      <td>0</td>\n",
       "      <td>1</td>\n",
       "      <td>0</td>\n",
       "      <td>0</td>\n",
       "      <td>0</td>\n",
       "      <td>0</td>\n",
       "      <td>0</td>\n",
       "      <td>0</td>\n",
       "      <td>0</td>\n",
       "      <td>0</td>\n",
       "      <td>0</td>\n",
       "      <td>1</td>\n",
       "      <td>0</td>\n",
       "      <td>0</td>\n",
       "      <td>0</td>\n",
       "      <td>0</td>\n",
       "      <td>0</td>\n",
       "      <td>0</td>\n",
       "      <td>0</td>\n",
       "      <td>0</td>\n",
       "      <td>0</td>\n",
       "      <td>0</td>\n",
       "      <td>0</td>\n",
       "      <td>1</td>\n",
       "      <td>0</td>\n",
       "      <td>0</td>\n",
       "      <td>0</td>\n",
       "      <td>0</td>\n",
       "      <td>0</td>\n",
       "      <td>0</td>\n",
       "      <td>0</td>\n",
       "      <td>1</td>\n",
       "      <td>0</td>\n",
       "      <td>0</td>\n",
       "      <td>0</td>\n",
       "      <td>0</td>\n",
       "      <td>0</td>\n",
       "      <td>0</td>\n",
       "      <td>0</td>\n",
       "      <td>0</td>\n",
       "      <td>1</td>\n",
       "      <td>0</td>\n",
       "      <td>0</td>\n",
       "      <td>0</td>\n",
       "      <td>0</td>\n",
       "      <td>0</td>\n",
       "      <td>0</td>\n",
       "      <td>0</td>\n",
       "      <td>5000</td>\n",
       "      <td>5169</td>\n",
       "      <td>21</td>\n",
       "      <td>3000</td>\n",
       "      <td>4000</td>\n",
       "      <td>57</td>\n",
       "      <td>0</td>\n",
       "    </tr>\n",
       "  </tbody>\n",
       "</table>\n",
       "</div>"
      ],
      "text/plain": [
       "       AGE  BILL_AMT1  BILL_AMT2  BILL_AMT3  BILL_AMT4  BILL_AMT5  BILL_AMT6  \\\n",
       "9421    23      49235      45173      39585      36189      21772      21417   \n",
       "14836   42      40466      41805      42520      43378      46664      47341   \n",
       "7129    39      61708      65080      68835      41462      36589      39985   \n",
       "\n",
       "       EDUCATION_2  EDUCATION_3  EDUCATION_4  LIMIT_BAL  MARRIAGE_2  \\\n",
       "9421             1            0            0     140000           1   \n",
       "14836            0            0            0      70000           0   \n",
       "7129             0            0            0      80000           0   \n",
       "\n",
       "       MARRIAGE_3  PAY_1_-1  PAY_1_0  PAY_1_1  PAY_1_2  PAY_1_3  PAY_1_4  \\\n",
       "9421            0         0        1        0        0        0        0   \n",
       "14836           0         0        1        0        0        0        0   \n",
       "7129            0         0        1        0        0        0        0   \n",
       "\n",
       "       PAY_1_5  PAY_1_6  PAY_1_7  PAY_1_8  PAY_2_-1  PAY_2_0  PAY_2_1  \\\n",
       "9421         0        0        0        0         0        1        0   \n",
       "14836        0        0        0        0         0        1        0   \n",
       "7129         0        0        0        0         0        1        0   \n",
       "\n",
       "       PAY_2_2  PAY_2_3  PAY_2_4  PAY_2_5  PAY_2_6  PAY_2_7  PAY_2_8  \\\n",
       "9421         0        0        0        0        0        0        0   \n",
       "14836        0        0        0        0        0        0        0   \n",
       "7129         0        0        0        0        0        0        0   \n",
       "\n",
       "       PAY_3_-1  PAY_3_0  PAY_3_1  PAY_3_2  PAY_3_3  PAY_3_4  PAY_3_5  \\\n",
       "9421          0        1        0        0        0        0        0   \n",
       "14836         0        1        0        0        0        0        0   \n",
       "7129          0        1        0        0        0        0        0   \n",
       "\n",
       "       PAY_3_6  PAY_3_7  PAY_3_8  PAY_4_-1  PAY_4_0  PAY_4_1  PAY_4_2  \\\n",
       "9421         0        0        0         0        1        0        0   \n",
       "14836        0        0        0         0        1        0        0   \n",
       "7129         0        0        0         0        0        0        1   \n",
       "\n",
       "       PAY_4_3  PAY_4_4  PAY_4_5  PAY_4_6  PAY_4_7  PAY_4_8  PAY_5_-1  \\\n",
       "9421         0        0        0        0        0        0         0   \n",
       "14836        0        0        0        0        0        0         0   \n",
       "7129         0        0        0        0        0        0         0   \n",
       "\n",
       "       PAY_5_0  PAY_5_2  PAY_5_3  PAY_5_4  PAY_5_5  PAY_5_6  PAY_5_7  PAY_5_8  \\\n",
       "9421         1        0        0        0        0        0        0        0   \n",
       "14836        1        0        0        0        0        0        0        0   \n",
       "7129         1        0        0        0        0        0        0        0   \n",
       "\n",
       "       PAY_6_-1  PAY_6_0  PAY_6_2  PAY_6_3  PAY_6_4  PAY_6_5  PAY_6_6  \\\n",
       "9421          0        1        0        0        0        0        0   \n",
       "14836         0        0        1        0        0        0        0   \n",
       "7129          0        1        0        0        0        0        0   \n",
       "\n",
       "       PAY_6_7  PAY_6_8  PAY_AMT1  PAY_AMT2  PAY_AMT3  PAY_AMT4  PAY_AMT5  \\\n",
       "9421         0        0      2517      1559      2000      1003      1000   \n",
       "14836        0        0      1994      1709      1567      4000      1600   \n",
       "7129         0        0      5000      5169        21      3000      4000   \n",
       "\n",
       "       PAY_AMT6  SEX_2  \n",
       "9421       1002      1  \n",
       "14836      2000      1  \n",
       "7129         57      0  "
      ]
     },
     "execution_count": 150,
     "metadata": {},
     "output_type": "execute_result"
    }
   ],
   "source": [
    "x_test_fa_df.head(3)"
   ]
  },
  {
   "cell_type": "code",
   "execution_count": 134,
   "id": "de321b99",
   "metadata": {},
   "outputs": [
    {
     "data": {
      "text/html": [
       "<div>\n",
       "<style scoped>\n",
       "    .dataframe tbody tr th:only-of-type {\n",
       "        vertical-align: middle;\n",
       "    }\n",
       "\n",
       "    .dataframe tbody tr th {\n",
       "        vertical-align: top;\n",
       "    }\n",
       "\n",
       "    .dataframe thead th {\n",
       "        text-align: right;\n",
       "    }\n",
       "</style>\n",
       "<table border=\"1\" class=\"dataframe\">\n",
       "  <thead>\n",
       "    <tr style=\"text-align: right;\">\n",
       "      <th></th>\n",
       "      <th>1</th>\n",
       "    </tr>\n",
       "  </thead>\n",
       "  <tbody>\n",
       "    <tr>\n",
       "      <th>14190</th>\n",
       "      <td>0</td>\n",
       "    </tr>\n",
       "    <tr>\n",
       "      <th>15001</th>\n",
       "      <td>1</td>\n",
       "    </tr>\n",
       "    <tr>\n",
       "      <th>27610</th>\n",
       "      <td>0</td>\n",
       "    </tr>\n",
       "  </tbody>\n",
       "</table>\n",
       "</div>"
      ],
      "text/plain": [
       "       1\n",
       "14190  0\n",
       "15001  1\n",
       "27610  0"
      ]
     },
     "execution_count": 134,
     "metadata": {},
     "output_type": "execute_result"
    }
   ],
   "source": [
    "y_train_fa_df.head(3)"
   ]
  },
  {
   "cell_type": "code",
   "execution_count": 135,
   "id": "56a3f13c",
   "metadata": {},
   "outputs": [
    {
     "data": {
      "text/html": [
       "<div>\n",
       "<style scoped>\n",
       "    .dataframe tbody tr th:only-of-type {\n",
       "        vertical-align: middle;\n",
       "    }\n",
       "\n",
       "    .dataframe tbody tr th {\n",
       "        vertical-align: top;\n",
       "    }\n",
       "\n",
       "    .dataframe thead th {\n",
       "        text-align: right;\n",
       "    }\n",
       "</style>\n",
       "<table border=\"1\" class=\"dataframe\">\n",
       "  <thead>\n",
       "    <tr style=\"text-align: right;\">\n",
       "      <th></th>\n",
       "      <th>1</th>\n",
       "    </tr>\n",
       "  </thead>\n",
       "  <tbody>\n",
       "    <tr>\n",
       "      <th>9421</th>\n",
       "      <td>0</td>\n",
       "    </tr>\n",
       "    <tr>\n",
       "      <th>14836</th>\n",
       "      <td>1</td>\n",
       "    </tr>\n",
       "    <tr>\n",
       "      <th>7129</th>\n",
       "      <td>0</td>\n",
       "    </tr>\n",
       "  </tbody>\n",
       "</table>\n",
       "</div>"
      ],
      "text/plain": [
       "       1\n",
       "9421   0\n",
       "14836  1\n",
       "7129   0"
      ]
     },
     "execution_count": 135,
     "metadata": {},
     "output_type": "execute_result"
    }
   ],
   "source": [
    "y_test_fa_df.head(3)"
   ]
  },
  {
   "cell_type": "code",
   "execution_count": 183,
   "id": "5e148b79",
   "metadata": {},
   "outputs": [],
   "source": [
    "target_f = df['DEFAULT_PAYMENT_NEXT_MONTH']\n",
    "\n",
    "predictors_f = df.drop(['DEFAULT_PAYMENT_NEXT_MONTH','ID'], axis = 1)\n",
    "\n",
    "features2 = ['AGE', 'BILL_AMT1', 'BILL_AMT2', 'BILL_AMT3', 'BILL_AMT4', 'BILL_AMT5', 'BILL_AMT6',\n",
    "            'EDUCATION_2', 'EDUCATION_3', 'EDUCATION_4', \n",
    "            'LIMIT_BAL',\n",
    "            'MARRIAGE_2', 'MARRIAGE_3', \n",
    "            'PAY_1_-1', 'PAY_1_0', 'PAY_1_1', 'PAY_1_2', 'PAY_1_3', 'PAY_1_4', 'PAY_1_5', 'PAY_1_6', 'PAY_1_7', 'PAY_1_8', \n",
    "            'PAY_2_-1', 'PAY_2_0', 'PAY_2_1', 'PAY_2_2', 'PAY_2_3', 'PAY_2_4', 'PAY_2_5', 'PAY_2_6', 'PAY_2_7', 'PAY_2_8', \n",
    "            'PAY_3_-1', 'PAY_3_0', 'PAY_3_1', 'PAY_3_2', 'PAY_3_3', 'PAY_3_4', 'PAY_3_5', 'PAY_3_6', 'PAY_3_7', 'PAY_3_8', \n",
    "            'PAY_4_-1', 'PAY_4_0', 'PAY_4_1', 'PAY_4_2', 'PAY_4_3', 'PAY_4_4', 'PAY_4_5', 'PAY_4_6', 'PAY_4_7', 'PAY_4_8', \n",
    "            'PAY_5_-1', 'PAY_5_0', 'PAY_5_2', 'PAY_5_3', 'PAY_5_4', 'PAY_5_5', 'PAY_5_6', 'PAY_5_7', 'PAY_5_8', \n",
    "            'PAY_6_-1', 'PAY_6_0', 'PAY_6_2', 'PAY_6_3', 'PAY_6_4', 'PAY_6_5', 'PAY_6_6', 'PAY_6_7', 'PAY_6_8', \n",
    "            'PAY_AMT1', 'PAY_AMT2', 'PAY_AMT3', 'PAY_AMT4', 'PAY_AMT5', 'PAY_AMT6', \n",
    "            'SEX_2']"
   ]
  },
  {
   "cell_type": "code",
   "execution_count": 184,
   "id": "1be5f47f",
   "metadata": {},
   "outputs": [
    {
     "data": {
      "text/plain": [
       "RandomForestClassifier(n_jobs=4, random_state=3, verbose=False)"
      ]
     },
     "execution_count": 184,
     "metadata": {},
     "output_type": "execute_result"
    }
   ],
   "source": [
    "clf.fit(x_train_fa_df, y_train_fa_df)"
   ]
  },
  {
   "cell_type": "code",
   "execution_count": 185,
   "id": "a653c763",
   "metadata": {},
   "outputs": [],
   "source": [
    "preds = clf.predict(x_test_fa_df)"
   ]
  },
  {
   "cell_type": "code",
   "execution_count": 187,
   "id": "38722aba",
   "metadata": {},
   "outputs": [
    {
     "data": {
      "text/plain": [
       "array([6.61183419e-02, 5.86200566e-02, 5.31511558e-02, 5.38284568e-02,\n",
       "       5.02963877e-02, 4.99374142e-02, 4.94708591e-02, 1.18339238e-02,\n",
       "       9.04372910e-03, 4.72745429e-04, 6.28233571e-02, 1.25002669e-02,\n",
       "       1.95747459e-03, 5.55035724e-03, 1.37194168e-02, 8.45384322e-03,\n",
       "       5.71406535e-02, 4.65745599e-03, 6.37370991e-04, 1.60562481e-04,\n",
       "       7.02932055e-05, 3.08318405e-05, 2.96082061e-05, 4.97540531e-03,\n",
       "       5.82596727e-03, 1.62715250e-04, 3.00723943e-02, 3.27818176e-03,\n",
       "       4.09690873e-04, 1.45054707e-04, 1.10126430e-04, 5.49484416e-05,\n",
       "       0.00000000e+00, 4.37564759e-03, 4.36878833e-03, 1.72390966e-05,\n",
       "       1.75913615e-02, 1.15222147e-03, 4.08314694e-04, 1.03341572e-04,\n",
       "       1.04777291e-04, 1.01502675e-04, 3.45711193e-06, 4.23853364e-03,\n",
       "       4.88588213e-03, 4.48393276e-07, 1.21937106e-02, 8.81946856e-04,\n",
       "       3.52011316e-04, 2.03321389e-04, 2.67245563e-05, 2.95372717e-04,\n",
       "       7.52064770e-07, 4.12144109e-03, 5.09216007e-03, 1.10596432e-02,\n",
       "       1.03421694e-03, 4.90860457e-04, 2.23785136e-04, 2.35219218e-05,\n",
       "       3.71408797e-04, 2.93447210e-06, 4.98315017e-03, 5.28292674e-03,\n",
       "       1.22655117e-02, 1.33016550e-03, 3.06971202e-04, 6.89902971e-05,\n",
       "       1.46773943e-04, 1.36386497e-04, 8.84233671e-06, 5.14263230e-02,\n",
       "       4.62900924e-02, 4.49535147e-02, 4.23661052e-02, 4.35020056e-02,\n",
       "       4.49175180e-02, 1.27503490e-02])"
      ]
     },
     "execution_count": 187,
     "metadata": {},
     "output_type": "execute_result"
    }
   ],
   "source": [
    "clf.feature_importances_"
   ]
  },
  {
   "cell_type": "markdown",
   "id": "33d09f88",
   "metadata": {},
   "source": [
    "# FEATURE SELECTION"
   ]
  },
  {
   "cell_type": "code",
   "execution_count": 188,
   "id": "68d1f61a",
   "metadata": {},
   "outputs": [
    {
     "data": {
      "image/png": "[encoded data removed]",
      "text/plain": [
       "<Figure size 1152x288 with 1 Axes>"
      ]
     },
     "metadata": {
      "needs_background": "light"
     },
     "output_type": "display_data"
    }
   ],
   "source": [
    "tmp = pd.DataFrame({'Feature': features2, 'Feature importance': clf.feature_importances_})\n",
    "tmp = tmp.sort_values(by = 'Feature importance', ascending = False)\n",
    "\n",
    "plt.figure(figsize = (16,4))\n",
    "plt.title('Features importance',fontsize = 14)\n",
    "\n",
    "s = sns.barplot(x = 'Feature', y = 'Feature importance', data = tmp)\n",
    "s.set_xticklabels(s.get_xticklabels(), rotation = 90)\n",
    "\n",
    "plt.show()"
   ]
  },
  {
   "cell_type": "markdown",
   "id": "24428ade",
   "metadata": {},
   "source": [
    "The most important features are AGE, LIMIT_BAL, BILL_AMT1, PAY_1_2, BILL_AMT3  and BILL_AMT2."
   ]
  },
  {
   "cell_type": "markdown",
   "id": "56ac8fa8",
   "metadata": {},
   "source": [
    "# CLASSIFICATION REPORT"
   ]
  },
  {
   "cell_type": "code",
   "execution_count": 189,
   "id": "630e0aad",
   "metadata": {},
   "outputs": [],
   "source": [
    "clf_cv_score = cross_val_score(clf, predictors_f, target_f, cv = 10, scoring = 'roc_auc')"
   ]
  },
  {
   "cell_type": "code",
   "execution_count": 190,
   "id": "93615169",
   "metadata": {},
   "outputs": [
    {
     "name": "stdout",
     "output_type": "stream",
     "text": [
      "========================= Confusion Matrix =========================\n",
      "\n",
      "\n",
      "[[6485  389]\n",
      " [1250  757]]\n",
      "\n",
      "\n",
      "========================= Classification Report =========================\n",
      "\n",
      "\n",
      "              precision    recall  f1-score   support\n",
      "\n",
      "           0       0.84      0.94      0.89      6874\n",
      "           1       0.66      0.38      0.48      2007\n",
      "\n",
      "    accuracy                           0.82      8881\n",
      "   macro avg       0.75      0.66      0.68      8881\n",
      "weighted avg       0.80      0.82      0.80      8881\n",
      "\n",
      "\n",
      "\n",
      "========================= All AUC Scores =========================\n",
      "\n",
      "\n",
      "[0.74045846 0.74086576 0.75046212 0.73368445 0.76223465 0.78360639\n",
      " 0.79499045 0.76866535 0.78300132 0.785778  ]\n",
      "\n",
      "\n",
      "========================= Mean AUC Score =========================\n",
      "\n",
      "\n",
      "Mean AUC Score - Random Forest: 0.7643746935277562\n"
     ]
    }
   ],
   "source": [
    "print('========================= Confusion Matrix =========================')\n",
    "print('\\n')\n",
    "print(confusion_matrix(y_test_fa_df, preds))\n",
    "print('\\n')\n",
    "\n",
    "print('========================= Classification Report =========================')\n",
    "print('\\n')\n",
    "print(classification_report(y_test_fa_df, preds))\n",
    "print('\\n')\n",
    "\n",
    "print('========================= All AUC Scores =========================')\n",
    "print('\\n')\n",
    "print(clf_cv_score)\n",
    "print('\\n')\n",
    "\n",
    "print('========================= Mean AUC Score =========================')\n",
    "print('\\n')\n",
    "print('Mean AUC Score - Random Forest:',clf_cv_score.mean())"
   ]
  },
  {
   "cell_type": "markdown",
   "id": "e6bc3705",
   "metadata": {},
   "source": [
    "# CONFUSION MATRIX"
   ]
  },
  {
   "cell_type": "code",
   "execution_count": 78,
   "id": "e8f782e9",
   "metadata": {},
   "outputs": [
    {
     "data": {
      "image/png": "[encoded data removed]",
      "text/plain": [
       "<Figure size 360x360 with 2 Axes>"
      ]
     },
     "metadata": {
      "needs_background": "light"
     },
     "output_type": "display_data"
    }
   ],
   "source": [
    "cm = pd.crosstab(test_fa_df[target].values, preds, rownames = ['Actual'], colnames = ['Predicted'])\n",
    "\n",
    "fig, (ax1) = plt.subplots(ncols = 1, figsize = (5,5))\n",
    "\n",
    "sns.heatmap(cm, \n",
    "            xticklabels = ['Not Default', 'Default'],\n",
    "            yticklabels = ['Not Default', 'Default'],\n",
    "            annot = True, ax = ax1,\n",
    "            linewidths = .2, linecolor = \"Darkblue\", cmap = \"Blues\")\n",
    "plt.title('Confusion Matrix', fontsize = 14)\n",
    "plt.show()"
   ]
  },
  {
   "cell_type": "markdown",
   "id": "7787125d",
   "metadata": {},
   "source": [
    "### roc_auc_score"
   ]
  },
  {
   "cell_type": "code",
   "execution_count": 79,
   "id": "4ff3635f",
   "metadata": {},
   "outputs": [
    {
     "data": {
      "text/plain": [
       "0.6602949104958367"
      ]
     },
     "execution_count": 79,
     "metadata": {},
     "output_type": "execute_result"
    }
   ],
   "source": [
    "## Calculating the area under curve(receiver operator characteristic)\n",
    "\n",
    "roc_auc_score(test_fa_df[target].values, preds)"
   ]
  },
  {
   "cell_type": "markdown",
   "id": "78a76a25",
   "metadata": {},
   "source": [
    "#### With the dummified features, the improvement of the AUC score is quite large."
   ]
  },
  {
   "cell_type": "code",
   "execution_count": null,
   "id": "2f6206fd",
   "metadata": {},
   "outputs": [],
   "source": []
  }
 ],
 "metadata": {
  "kernelspec": {
   "display_name": "Python 3",
   "language": "python",
   "name": "python3"
  },
  "language_info": {
   "codemirror_mode": {
    "name": "ipython",
    "version": 3
   },
   "file_extension": ".py",
   "mimetype": "text/x-python",
   "name": "python",
   "nbconvert_exporter": "python",
   "pygments_lexer": "ipython3",
   "version": "3.8.2"
  }
 },
 "nbformat": 4,
 "nbformat_minor": 5
}
